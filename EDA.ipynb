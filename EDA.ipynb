{
 "cells": [
  {
   "cell_type": "markdown",
   "metadata": {},
   "source": [
    "# **ANÁLISIS EXPLORATORIO DE DATOS (EDA)**\n",
    "A continuación, detallamos las fases de nuestro EDA, las cuales nos permitirán profundizar en el entendimiento de las bases de datos ya preprocesadas:\n",
    "\n",
    "  * **Chequeo de Nulos/Valores Faltantes:** Verificaremos la presencia de valores nulos restantes. \n",
    "  * **Valores Duplicados:** Revisaremos y manejaremos cualquier duplicidad adicional en los datos. \n",
    "  * **Tipos de Datos:** Confirmaremos que cada columna contiene el tipo de dato más adecuado para su contenido. \n",
    "  * **Análisis Estadístico:** Realizaremos una evaluación estadística para comprender las tendencias y patrones subyacentes. \n",
    "  * **Correlaciones:** Analizaremos las relaciones bi y multivariadas para descubrir correlaciones significativas entre las variables. \n",
    "\n",
    "Es importante mencionar que, previamente, hemos llevado a cabo una limpieza exhaustiva de las bases de datos que involucra la eliminación de columnas innecesarias, corrección de nulos y remoción de registros duplicados. Este proceso es fundamental para la integridad de las funciones que desarrollaremos a continuación y la creación de la API."
   ]
  },
  {
   "cell_type": "markdown",
   "metadata": {},
   "source": [
    "**Importación de librerías**"
   ]
  },
  {
   "cell_type": "code",
   "execution_count": 103,
   "metadata": {},
   "outputs": [],
   "source": [
    "# Importación de librerías para manipulación de datos\n",
    "import numpy as np\n",
    "import pandas as pd\n",
    "pd.set_option(\"display.max_columns\", None)  # Permite visualizar todas las columnas en el DataFrame\n",
    "\n",
    "# Importación de librerías para visualización de datos\n",
    "import matplotlib.pyplot as plt\n",
    "import seaborn as sns\n",
    "from scipy import stats\n",
    "\n",
    "# Configuración para ignorar advertencias\n",
    "import warnings\n",
    "warnings.filterwarnings(\"ignore\")"
   ]
  },
  {
   "cell_type": "markdown",
   "metadata": {},
   "source": [
    "**Extracción de los datos**\n",
    "Para los análisis necesarios, extraeremos los datos esenciales de los conjuntos steam_games, user_reviews, y user_items. Estos conjuntos de datos son fundamentales para nuestros análisis."
   ]
  },
  {
   "cell_type": "code",
   "execution_count": 104,
   "metadata": {},
   "outputs": [],
   "source": [
    "# Carga de datos de juegos de Steam\n",
    "steam_games = pd.read_csv('data/steam_games_cleaned.csv')\n",
    "\n",
    "# Carga de datos de reseñas de usuarios\n",
    "user_reviews = pd.read_csv('data/user_reviews_cleaned.csv')\n",
    "\n",
    "# Carga de datos de artículos de usuarios\n",
    "user_items = pd.read_csv('data/user_items_cleaned.csv')"
   ]
  },
  {
   "cell_type": "markdown",
   "metadata": {},
   "source": [
    "## **Análisis Exploratorio de Datos (EDA) del Conjunto \"Steam Games\"**"
   ]
  },
  {
   "cell_type": "markdown",
   "metadata": {},
   "source": [
    "Tras completar los procesos de Extracción, Transformación y Carga (ETL), nos enfocamos en el EDA del conjunto \"Steam Games\". Nuestro análisis se concentra en:\n",
    "\n",
    "Estructura del Conjunto de Datos: Evaluación de su organización y esquema.\n",
    "Examen de los Datos: Análisis del tipo y distribución de los datos.\n",
    "Valores Nulos: Identificación y análisis de la presencia de nulos.\n",
    "Este enfoque garantiza un análisis profundo y preciso, esencial para obtener insights valiosos del conjunto \"Steam Games\"."
   ]
  },
  {
   "cell_type": "markdown",
   "metadata": {},
   "source": [
    "**Exploramos los datos**"
   ]
  },
  {
   "cell_type": "code",
   "execution_count": 105,
   "metadata": {},
   "outputs": [
    {
     "data": {
      "text/html": [
       "<div>\n",
       "<style scoped>\n",
       "    .dataframe tbody tr th:only-of-type {\n",
       "        vertical-align: middle;\n",
       "    }\n",
       "\n",
       "    .dataframe tbody tr th {\n",
       "        vertical-align: top;\n",
       "    }\n",
       "\n",
       "    .dataframe thead th {\n",
       "        text-align: right;\n",
       "    }\n",
       "</style>\n",
       "<table border=\"1\" class=\"dataframe\">\n",
       "  <thead>\n",
       "    <tr style=\"text-align: right;\">\n",
       "      <th></th>\n",
       "      <th>item_id</th>\n",
       "      <th>app_name</th>\n",
       "      <th>genres</th>\n",
       "      <th>year_of_release</th>\n",
       "      <th>publisher</th>\n",
       "      <th>developer</th>\n",
       "    </tr>\n",
       "  </thead>\n",
       "  <tbody>\n",
       "    <tr>\n",
       "      <th>0</th>\n",
       "      <td>761140.0</td>\n",
       "      <td>Lost Summoner Kitty</td>\n",
       "      <td>Action</td>\n",
       "      <td>2018.0</td>\n",
       "      <td>Kotoshiro</td>\n",
       "      <td>Kotoshiro</td>\n",
       "    </tr>\n",
       "    <tr>\n",
       "      <th>1</th>\n",
       "      <td>761140.0</td>\n",
       "      <td>Lost Summoner Kitty</td>\n",
       "      <td>Casual</td>\n",
       "      <td>2018.0</td>\n",
       "      <td>Kotoshiro</td>\n",
       "      <td>Kotoshiro</td>\n",
       "    </tr>\n",
       "    <tr>\n",
       "      <th>2</th>\n",
       "      <td>761140.0</td>\n",
       "      <td>Lost Summoner Kitty</td>\n",
       "      <td>Indie</td>\n",
       "      <td>2018.0</td>\n",
       "      <td>Kotoshiro</td>\n",
       "      <td>Kotoshiro</td>\n",
       "    </tr>\n",
       "    <tr>\n",
       "      <th>3</th>\n",
       "      <td>761140.0</td>\n",
       "      <td>Lost Summoner Kitty</td>\n",
       "      <td>Simulation</td>\n",
       "      <td>2018.0</td>\n",
       "      <td>Kotoshiro</td>\n",
       "      <td>Kotoshiro</td>\n",
       "    </tr>\n",
       "    <tr>\n",
       "      <th>4</th>\n",
       "      <td>761140.0</td>\n",
       "      <td>Lost Summoner Kitty</td>\n",
       "      <td>Strategy</td>\n",
       "      <td>2018.0</td>\n",
       "      <td>Kotoshiro</td>\n",
       "      <td>Kotoshiro</td>\n",
       "    </tr>\n",
       "    <tr>\n",
       "      <th>...</th>\n",
       "      <td>...</td>\n",
       "      <td>...</td>\n",
       "      <td>...</td>\n",
       "      <td>...</td>\n",
       "      <td>...</td>\n",
       "      <td>...</td>\n",
       "    </tr>\n",
       "    <tr>\n",
       "      <th>74831</th>\n",
       "      <td>610660.0</td>\n",
       "      <td>Russian Roads</td>\n",
       "      <td>Racing</td>\n",
       "      <td>2018.0</td>\n",
       "      <td>Laush Studio</td>\n",
       "      <td>Laush Dmitriy Sergeevich</td>\n",
       "    </tr>\n",
       "    <tr>\n",
       "      <th>74832</th>\n",
       "      <td>610660.0</td>\n",
       "      <td>Russian Roads</td>\n",
       "      <td>Simulation</td>\n",
       "      <td>2018.0</td>\n",
       "      <td>Laush Studio</td>\n",
       "      <td>Laush Dmitriy Sergeevich</td>\n",
       "    </tr>\n",
       "    <tr>\n",
       "      <th>74833</th>\n",
       "      <td>658870.0</td>\n",
       "      <td>EXIT 2 - Directions</td>\n",
       "      <td>Casual</td>\n",
       "      <td>2017.0</td>\n",
       "      <td>SIXNAILS</td>\n",
       "      <td>xropi,stev3ns</td>\n",
       "    </tr>\n",
       "    <tr>\n",
       "      <th>74834</th>\n",
       "      <td>658870.0</td>\n",
       "      <td>EXIT 2 - Directions</td>\n",
       "      <td>Indie</td>\n",
       "      <td>2017.0</td>\n",
       "      <td>SIXNAILS</td>\n",
       "      <td>xropi,stev3ns</td>\n",
       "    </tr>\n",
       "    <tr>\n",
       "      <th>74835</th>\n",
       "      <td>681550.0</td>\n",
       "      <td>Maze Run VR</td>\n",
       "      <td>NaN</td>\n",
       "      <td>2017.0</td>\n",
       "      <td>NaN</td>\n",
       "      <td>NaN</td>\n",
       "    </tr>\n",
       "  </tbody>\n",
       "</table>\n",
       "<p>74836 rows × 6 columns</p>\n",
       "</div>"
      ],
      "text/plain": [
       "        item_id             app_name      genres  year_of_release  \\\n",
       "0      761140.0  Lost Summoner Kitty      Action           2018.0   \n",
       "1      761140.0  Lost Summoner Kitty      Casual           2018.0   \n",
       "2      761140.0  Lost Summoner Kitty       Indie           2018.0   \n",
       "3      761140.0  Lost Summoner Kitty  Simulation           2018.0   \n",
       "4      761140.0  Lost Summoner Kitty    Strategy           2018.0   \n",
       "...         ...                  ...         ...              ...   \n",
       "74831  610660.0        Russian Roads      Racing           2018.0   \n",
       "74832  610660.0        Russian Roads  Simulation           2018.0   \n",
       "74833  658870.0  EXIT 2 - Directions      Casual           2017.0   \n",
       "74834  658870.0  EXIT 2 - Directions       Indie           2017.0   \n",
       "74835  681550.0          Maze Run VR         NaN           2017.0   \n",
       "\n",
       "          publisher                 developer  \n",
       "0         Kotoshiro                 Kotoshiro  \n",
       "1         Kotoshiro                 Kotoshiro  \n",
       "2         Kotoshiro                 Kotoshiro  \n",
       "3         Kotoshiro                 Kotoshiro  \n",
       "4         Kotoshiro                 Kotoshiro  \n",
       "...             ...                       ...  \n",
       "74831  Laush Studio  Laush Dmitriy Sergeevich  \n",
       "74832  Laush Studio  Laush Dmitriy Sergeevich  \n",
       "74833      SIXNAILS             xropi,stev3ns  \n",
       "74834      SIXNAILS             xropi,stev3ns  \n",
       "74835           NaN                       NaN  \n",
       "\n",
       "[74836 rows x 6 columns]"
      ]
     },
     "execution_count": 105,
     "metadata": {},
     "output_type": "execute_result"
    }
   ],
   "source": [
    "#Revisamos la data\n",
    "steam_games"
   ]
  },
  {
   "cell_type": "code",
   "execution_count": 106,
   "metadata": {},
   "outputs": [
    {
     "name": "stdout",
     "output_type": "stream",
     "text": [
      "<class 'pandas.core.frame.DataFrame'>\n",
      "RangeIndex: 74836 entries, 0 to 74835\n",
      "Data columns (total 6 columns):\n",
      " #   Column           Non-Null Count  Dtype  \n",
      "---  ------           --------------  -----  \n",
      " 0   item_id          74834 non-null  float64\n",
      " 1   app_name         74836 non-null  object \n",
      " 2   genres           71554 non-null  object \n",
      " 3   year_of_release  74836 non-null  float64\n",
      " 4   publisher        59198 non-null  object \n",
      " 5   developer        71360 non-null  object \n",
      "dtypes: float64(2), object(4)\n",
      "memory usage: 3.4+ MB\n"
     ]
    }
   ],
   "source": [
    "#Revisamos las columnas, el tipo de datos y valores faltantes\n",
    "steam_games.info()"
   ]
  },
  {
   "cell_type": "code",
   "execution_count": 107,
   "metadata": {},
   "outputs": [],
   "source": [
    "# Convertir la columna 'year_of_release' a enteros\n",
    "steam_games['year_of_release'] = steam_games['year_of_release'].astype(int)"
   ]
  },
  {
   "cell_type": "markdown",
   "metadata": {},
   "source": [
    "**Análisis del DataFrame \"Steam Games\"**\n",
    "\n",
    "Podemos observar que el DataFrame \"Steam Games\" contiene 74,837 filas y 6 columnas. Aquí están mis observaciones y conclusiones clave:\n",
    "\n",
    "**Observaciones Claves**\n",
    "* **Complejidad de Datos:** El DataFrame incluye tanto datos numéricos (`float64`) como textuales (`object`).\n",
    "* **Presencia de Valores Nulos:** Algunas columnas clave como  `genres`, `publisher`, y `developer` presentan una cantidad notable de valores nulos.\n",
    "\n",
    "**Conclusiones**\n",
    "**a. Revisión de Datos Nulos:** Es esencial abordar los valores nulos, especialmente en las columnas mencionadas, para asegurar la integridad del análisis. \n",
    "**b. Análisis Temporal:** La columna `year_of_release` está completa, lo cual facilita análisis basados en la temporalidad de los datos. Sin embargo, será necesario convertirla en entero a la hora de hacer las funciones.\n",
    "**c. Gestión de Memoria:** Con un uso de 3.4 MB, el DataFrame es manejable y no representa un desafío en términos de recursos computacionales. \n",
    "\n",
    "En resumen, mi próximo paso será centrarme en la revisión de los datos, lo que permitirá un análisis más profundo y fiable del conjunto de datos \"Steam Games\"."
   ]
  },
  {
   "cell_type": "markdown",
   "metadata": {},
   "source": [
    "**Revisión de Datos Nulos**"
   ]
  },
  {
   "cell_type": "code",
   "execution_count": 108,
   "metadata": {},
   "outputs": [
    {
     "data": {
      "text/plain": [
       "item_id                2\n",
       "app_name               0\n",
       "genres              3282\n",
       "year_of_release        0\n",
       "publisher          15638\n",
       "developer           3476\n",
       "dtype: int64"
      ]
     },
     "execution_count": 108,
     "metadata": {},
     "output_type": "execute_result"
    }
   ],
   "source": [
    "steam_games.isnull().sum()"
   ]
  },
  {
   "cell_type": "markdown",
   "metadata": {},
   "source": [
    "**Vamos a trabajar los valores nulos de item_id, genres y publisher**"
   ]
  },
  {
   "cell_type": "code",
   "execution_count": 109,
   "metadata": {},
   "outputs": [
    {
     "data": {
      "text/html": [
       "<div>\n",
       "<style scoped>\n",
       "    .dataframe tbody tr th:only-of-type {\n",
       "        vertical-align: middle;\n",
       "    }\n",
       "\n",
       "    .dataframe tbody tr th {\n",
       "        vertical-align: top;\n",
       "    }\n",
       "\n",
       "    .dataframe thead th {\n",
       "        text-align: right;\n",
       "    }\n",
       "</style>\n",
       "<table border=\"1\" class=\"dataframe\">\n",
       "  <thead>\n",
       "    <tr style=\"text-align: right;\">\n",
       "      <th></th>\n",
       "      <th>app_name</th>\n",
       "      <th>year_of_release</th>\n",
       "      <th>item_id</th>\n",
       "      <th>genres</th>\n",
       "      <th>publisher</th>\n",
       "      <th>developer</th>\n",
       "    </tr>\n",
       "  </thead>\n",
       "  <tbody>\n",
       "    <tr>\n",
       "      <th>0</th>\n",
       "      <td>Lost Summoner Kitty</td>\n",
       "      <td>2018</td>\n",
       "      <td>761140.0</td>\n",
       "      <td>Action</td>\n",
       "      <td>Kotoshiro</td>\n",
       "      <td>Kotoshiro</td>\n",
       "    </tr>\n",
       "    <tr>\n",
       "      <th>1</th>\n",
       "      <td>Lost Summoner Kitty</td>\n",
       "      <td>2018</td>\n",
       "      <td>761140.0</td>\n",
       "      <td>Casual</td>\n",
       "      <td>Kotoshiro</td>\n",
       "      <td>Kotoshiro</td>\n",
       "    </tr>\n",
       "    <tr>\n",
       "      <th>2</th>\n",
       "      <td>Lost Summoner Kitty</td>\n",
       "      <td>2018</td>\n",
       "      <td>761140.0</td>\n",
       "      <td>Indie</td>\n",
       "      <td>Kotoshiro</td>\n",
       "      <td>Kotoshiro</td>\n",
       "    </tr>\n",
       "    <tr>\n",
       "      <th>3</th>\n",
       "      <td>Lost Summoner Kitty</td>\n",
       "      <td>2018</td>\n",
       "      <td>761140.0</td>\n",
       "      <td>Simulation</td>\n",
       "      <td>Kotoshiro</td>\n",
       "      <td>Kotoshiro</td>\n",
       "    </tr>\n",
       "    <tr>\n",
       "      <th>4</th>\n",
       "      <td>Lost Summoner Kitty</td>\n",
       "      <td>2018</td>\n",
       "      <td>761140.0</td>\n",
       "      <td>Strategy</td>\n",
       "      <td>Kotoshiro</td>\n",
       "      <td>Kotoshiro</td>\n",
       "    </tr>\n",
       "    <tr>\n",
       "      <th>...</th>\n",
       "      <td>...</td>\n",
       "      <td>...</td>\n",
       "      <td>...</td>\n",
       "      <td>...</td>\n",
       "      <td>...</td>\n",
       "      <td>...</td>\n",
       "    </tr>\n",
       "    <tr>\n",
       "      <th>74831</th>\n",
       "      <td>Russian Roads</td>\n",
       "      <td>2018</td>\n",
       "      <td>610660.0</td>\n",
       "      <td>Racing</td>\n",
       "      <td>Laush Studio</td>\n",
       "      <td>Laush Dmitriy Sergeevich</td>\n",
       "    </tr>\n",
       "    <tr>\n",
       "      <th>74832</th>\n",
       "      <td>Russian Roads</td>\n",
       "      <td>2018</td>\n",
       "      <td>610660.0</td>\n",
       "      <td>Simulation</td>\n",
       "      <td>Laush Studio</td>\n",
       "      <td>Laush Dmitriy Sergeevich</td>\n",
       "    </tr>\n",
       "    <tr>\n",
       "      <th>74833</th>\n",
       "      <td>EXIT 2 - Directions</td>\n",
       "      <td>2017</td>\n",
       "      <td>658870.0</td>\n",
       "      <td>Casual</td>\n",
       "      <td>SIXNAILS</td>\n",
       "      <td>xropi,stev3ns</td>\n",
       "    </tr>\n",
       "    <tr>\n",
       "      <th>74834</th>\n",
       "      <td>EXIT 2 - Directions</td>\n",
       "      <td>2017</td>\n",
       "      <td>658870.0</td>\n",
       "      <td>Indie</td>\n",
       "      <td>SIXNAILS</td>\n",
       "      <td>xropi,stev3ns</td>\n",
       "    </tr>\n",
       "    <tr>\n",
       "      <th>74835</th>\n",
       "      <td>Maze Run VR</td>\n",
       "      <td>2017</td>\n",
       "      <td>681550.0</td>\n",
       "      <td>Sin Datos</td>\n",
       "      <td>Sin Datos</td>\n",
       "      <td>Sin Datos</td>\n",
       "    </tr>\n",
       "  </tbody>\n",
       "</table>\n",
       "<p>74836 rows × 6 columns</p>\n",
       "</div>"
      ],
      "text/plain": [
       "                  app_name  year_of_release   item_id      genres  \\\n",
       "0      Lost Summoner Kitty             2018  761140.0      Action   \n",
       "1      Lost Summoner Kitty             2018  761140.0      Casual   \n",
       "2      Lost Summoner Kitty             2018  761140.0       Indie   \n",
       "3      Lost Summoner Kitty             2018  761140.0  Simulation   \n",
       "4      Lost Summoner Kitty             2018  761140.0    Strategy   \n",
       "...                    ...              ...       ...         ...   \n",
       "74831        Russian Roads             2018  610660.0      Racing   \n",
       "74832        Russian Roads             2018  610660.0  Simulation   \n",
       "74833  EXIT 2 - Directions             2017  658870.0      Casual   \n",
       "74834  EXIT 2 - Directions             2017  658870.0       Indie   \n",
       "74835          Maze Run VR             2017  681550.0   Sin Datos   \n",
       "\n",
       "          publisher                 developer  \n",
       "0         Kotoshiro                 Kotoshiro  \n",
       "1         Kotoshiro                 Kotoshiro  \n",
       "2         Kotoshiro                 Kotoshiro  \n",
       "3         Kotoshiro                 Kotoshiro  \n",
       "4         Kotoshiro                 Kotoshiro  \n",
       "...             ...                       ...  \n",
       "74831  Laush Studio  Laush Dmitriy Sergeevich  \n",
       "74832  Laush Studio  Laush Dmitriy Sergeevich  \n",
       "74833      SIXNAILS             xropi,stev3ns  \n",
       "74834      SIXNAILS             xropi,stev3ns  \n",
       "74835     Sin Datos                 Sin Datos  \n",
       "\n",
       "[74836 rows x 6 columns]"
      ]
     },
     "execution_count": 109,
     "metadata": {},
     "output_type": "execute_result"
    }
   ],
   "source": [
    "#Inicio un archivo con las columnas que tengo que reemplazar nulos\n",
    "archivo_columnas=[\"item_id\", \"genres\",\"publisher\",\"developer\"]\n",
    "\n",
    "#Genero un dataframe con las columnas y sus nulos reemplazados por \"Sin Datos\"\n",
    "nulos= steam_games[archivo_columnas].fillna(\"Sin Datos\")\n",
    "\n",
    "#Elimino las colummas a reemplazar y concateno ambos dataframes \n",
    "games_2 = pd.concat([steam_games.drop(archivo_columnas, axis=1), nulos], axis=1)\n",
    "games_2"
   ]
  },
  {
   "cell_type": "code",
   "execution_count": 110,
   "metadata": {},
   "outputs": [
    {
     "data": {
      "text/plain": [
       "app_name           0\n",
       "year_of_release    0\n",
       "item_id            0\n",
       "genres             0\n",
       "publisher          0\n",
       "developer          0\n",
       "dtype: int64"
      ]
     },
     "execution_count": 110,
     "metadata": {},
     "output_type": "execute_result"
    }
   ],
   "source": [
    "#Confirmamos que ya no tenemos datos nulos\n",
    "games_2.isnull().sum()"
   ]
  },
  {
   "cell_type": "markdown",
   "metadata": {},
   "source": [
    "**Datos duplicados**"
   ]
  },
  {
   "cell_type": "code",
   "execution_count": 111,
   "metadata": {},
   "outputs": [],
   "source": [
    "# Verificar duplicados, incluyendo la primera ocurrencia\n",
    "duplicados = games_2.duplicated(keep=False)\n",
    "\n",
    "# Mostrar todas las filas que están duplicadas\n",
    "filas_duplicadas = games_2[duplicados]"
   ]
  },
  {
   "cell_type": "code",
   "execution_count": 112,
   "metadata": {},
   "outputs": [
    {
     "data": {
      "text/html": [
       "<div>\n",
       "<style scoped>\n",
       "    .dataframe tbody tr th:only-of-type {\n",
       "        vertical-align: middle;\n",
       "    }\n",
       "\n",
       "    .dataframe tbody tr th {\n",
       "        vertical-align: top;\n",
       "    }\n",
       "\n",
       "    .dataframe thead th {\n",
       "        text-align: right;\n",
       "    }\n",
       "</style>\n",
       "<table border=\"1\" class=\"dataframe\">\n",
       "  <thead>\n",
       "    <tr style=\"text-align: right;\">\n",
       "      <th></th>\n",
       "      <th>app_name</th>\n",
       "      <th>year_of_release</th>\n",
       "      <th>item_id</th>\n",
       "      <th>genres</th>\n",
       "      <th>publisher</th>\n",
       "      <th>developer</th>\n",
       "    </tr>\n",
       "  </thead>\n",
       "  <tbody>\n",
       "    <tr>\n",
       "      <th>32519</th>\n",
       "      <td>Wolfenstein II: The New Colossus</td>\n",
       "      <td>2017</td>\n",
       "      <td>612880.0</td>\n",
       "      <td>Action</td>\n",
       "      <td>Bethesda Softworks</td>\n",
       "      <td>Machine Games</td>\n",
       "    </tr>\n",
       "    <tr>\n",
       "      <th>34217</th>\n",
       "      <td>Wolfenstein II: The New Colossus</td>\n",
       "      <td>2017</td>\n",
       "      <td>612880.0</td>\n",
       "      <td>Action</td>\n",
       "      <td>Bethesda Softworks</td>\n",
       "      <td>Machine Games</td>\n",
       "    </tr>\n",
       "  </tbody>\n",
       "</table>\n",
       "</div>"
      ],
      "text/plain": [
       "                               app_name  year_of_release   item_id  genres  \\\n",
       "32519  Wolfenstein II: The New Colossus             2017  612880.0  Action   \n",
       "34217  Wolfenstein II: The New Colossus             2017  612880.0  Action   \n",
       "\n",
       "                publisher      developer  \n",
       "32519  Bethesda Softworks  Machine Games  \n",
       "34217  Bethesda Softworks  Machine Games  "
      ]
     },
     "execution_count": 112,
     "metadata": {},
     "output_type": "execute_result"
    }
   ],
   "source": [
    "filas_duplicadas"
   ]
  },
  {
   "cell_type": "markdown",
   "metadata": {},
   "source": [
    "Las filas 32519 y 34217 son idénticas en todas sus columnas, lo que indica que son duplicados. Vamos a eliminar uno de los duplicados para mantener la integridad de los datos y evitar redundancias."
   ]
  },
  {
   "cell_type": "code",
   "execution_count": 113,
   "metadata": {},
   "outputs": [],
   "source": [
    "# Eliminar duplicados, manteniendo la primera ocurrencia\n",
    "games_2.drop_duplicates(inplace=True)"
   ]
  },
  {
   "cell_type": "code",
   "execution_count": 114,
   "metadata": {},
   "outputs": [],
   "source": [
    "# Verificar duplicados basados en ciertas columnas\n",
    "duplicados = games_2.duplicated(subset=['app_name', 'year_of_release', 'item_id'], keep=False)"
   ]
  },
  {
   "cell_type": "markdown",
   "metadata": {},
   "source": [
    "**Análisis estadísticos y correlaciones**"
   ]
  },
  {
   "cell_type": "markdown",
   "metadata": {},
   "source": [
    "Analízaremos la columna **\"app_name\"**"
   ]
  },
  {
   "cell_type": "code",
   "execution_count": 115,
   "metadata": {},
   "outputs": [
    {
     "data": {
      "image/png": "[encoded data removed]",
      "text/plain": [
       "<Figure size 1000x500 with 1 Axes>"
      ]
     },
     "metadata": {},
     "output_type": "display_data"
    },
    {
     "data": {
      "image/png": "[encoded data removed]",
      "text/plain": [
       "<Figure size 1500x500 with 1 Axes>"
      ]
     },
     "metadata": {},
     "output_type": "display_data"
    }
   ],
   "source": [
    "app_names = games_2[\"app_name\"].value_counts()\n",
    "\n",
    "# Definir los colores utilizando la paleta \"cubehelix\"\n",
    "colors = sns.color_palette(\"cubehelix\", len(app_names[:10]))\n",
    "\n",
    "# Crear el gráfico de barras con los colores especificados para las 10 aplicaciones más comunes\n",
    "plt.figure(figsize=(10, 5))\n",
    "app_names[:10].plot(kind='bar', color=colors)\n",
    "plt.xlabel('App Name')\n",
    "plt.ylabel('Frequency')\n",
    "plt.title('Top 10 App Names')\n",
    "plt.show()\n",
    "\n",
    "# Para visualizar si hay outliers en la frecuencia de los nombres de las aplicaciones,\n",
    "# podemos usar un diagrama de caja (boxplot)\n",
    "plt.figure(figsize=(15, 5))\n",
    "sns.boxplot(y=app_names)\n",
    "plt.ylabel('Frequency')\n",
    "plt.title('Boxplot of App Name Frequencies')\n",
    "plt.show()"
   ]
  },
  {
   "cell_type": "markdown",
   "metadata": {},
   "source": [
    "El primer gráfico me muestra el top 10 de nombres de aplicaciones por frecuencia. Observo que todos tienen una frecuencia similar, alrededor de 10 o menos, lo que indica una distribución bastante uniforme entre los más frecuentes. No hay un nombre de aplicación que se destaque significativamente por encima de los demás en este grupo.\n",
    "\n",
    "El segundo gráfico, un boxplot de las frecuencias de los nombres de las aplicaciones, revela varios puntos por fuera de los \"bigotes\", que representan outliers. Estos outliers son nombres de aplicaciones que tienen una frecuencia de aparición mucho más alta en comparación con la mayoría. La caja en sí es bastante estrecha, lo que sugiere que la mayoría de las aplicaciones tienen una baja frecuencia de aparición, mientras que unos pocos nombres son mucho más comunes."
   ]
  },
  {
   "cell_type": "markdown",
   "metadata": {},
   "source": [
    "Analízaremos la columna **\"year_of_release\"**"
   ]
  },
  {
   "cell_type": "code",
   "execution_count": 116,
   "metadata": {},
   "outputs": [
    {
     "data": {
      "image/png": "[encoded data removed]",
      "text/plain": [
       "<Figure size 1400x500 with 1 Axes>"
      ]
     },
     "metadata": {},
     "output_type": "display_data"
    }
   ],
   "source": [
    "juegos_anios= games_2[\"year_of_release\"].value_counts()\n",
    "cantidad_juegos_anios= juegos_anios.sort_index()\n",
    "\n",
    "plt.figure(figsize=(14, 5))\n",
    "\n",
    "sns.barplot(x=cantidad_juegos_anios.index, y=cantidad_juegos_anios.values, palette=(\"cubehelix\"))\n",
    "plt.xlabel('Año de lanzamiento') ; plt.ylabel('Cantidad de Juegos') ; plt.title('Cantidad de Juegos por Año de lanzamiento')\n",
    "plt.xticks(rotation=45, ha='right')\n",
    "plt.tight_layout()\n",
    "plt.show()\n"
   ]
  },
  {
   "cell_type": "markdown",
   "metadata": {},
   "source": [
    "\n",
    "El gráfico muestra la cantidad de juegos lanzados por año, con un claro incremento a lo largo del tiempo. Hay un aumento significativo a partir de 2010, con un pico particularmente alto en 2018. Este pico sobresale de la tendencia general y podría considerarse un outlier, ya que difiere significativamente de los otros valores.\n",
    "\n",
    "El crecimiento acelerado en los años recientes podría reflejar la expansión del mercado de videojuegos, la facilidad de publicación de juegos independientes o un cambio en la política de la plataforma de distribución que se está analizando.\n",
    "\n",
    "Si bien un único año con un alto número de lanzamientos podría ser un outlier, también podría ser el resultado de un cambio en la industria o en la metodología de recopilación de datos."
   ]
  },
  {
   "cell_type": "markdown",
   "metadata": {},
   "source": [
    "Analízaremos la columna **\"Genres\"**"
   ]
  },
  {
   "cell_type": "code",
   "execution_count": 117,
   "metadata": {},
   "outputs": [
    {
     "data": {
      "image/png": "[encoded data removed]",
      "text/plain": [
       "<Figure size 1200x800 with 1 Axes>"
      ]
     },
     "metadata": {},
     "output_type": "display_data"
    }
   ],
   "source": [
    "plt.figure(figsize=(12, 8))\n",
    "sns.countplot(data=games_2, y='genres', orient='h', palette=(\"cubehelix\"))\n",
    "plt.show()"
   ]
  },
  {
   "cell_type": "markdown",
   "metadata": {},
   "source": [
    "Mirando este gráfico, podemos ver que los géneros de acción, casual e indie son los más comunes, lo que indica que son muy populares o frecuentemente producidos. En contraste, géneros como contabilidad aparecen poco, mostrando que son más especializados. Este resumen me ayuda a entender qué categorías capturan más interés y cuáles son más de nicho.\n",
    "\n",
    "Para obtener una comprensión más profunda de la distribución, es beneficioso calcular la proporción que cada género representa en el total. Así que he generado una tabla que exhibe la proporción porcentual de juegos asociados a cada género específico."
   ]
  },
  {
   "cell_type": "code",
   "execution_count": 118,
   "metadata": {},
   "outputs": [
    {
     "data": {
      "text/plain": [
       "genres\n",
       "Indie           21.190619\n",
       "Action          15.126612\n",
       "Casual          11.067014\n",
       "Adventure       11.014899\n",
       "Strategy         9.296452\n",
       "Simulation       8.951694\n",
       "RPG              7.321441\n",
       "Sin Datos        4.385648\n",
       "Free to Play     2.713971\n",
       "Early Access     1.953631\n",
       "Name: count, dtype: float64"
      ]
     },
     "execution_count": 118,
     "metadata": {},
     "output_type": "execute_result"
    }
   ],
   "source": [
    "# Cálculo de porcentajes por género\n",
    "genre_percentages = (games_2['genres'].value_counts() / len(games_2)) * 100\n",
    "\n",
    "# Mostrar los 10 géneros principales con sus porcentajes\n",
    "top10_genres = genre_percentages.head(10)\n",
    "top10_genres"
   ]
  },
  {
   "cell_type": "markdown",
   "metadata": {},
   "source": [
    "Estos porcentajes ofrecen una perspectiva interesante sobre la composición del conjunto de datos. Se puede ver que los juegos Indie representan la mayor parte, con un 21.19%, lo que sugiere una fuerte presencia de desarrolladores independientes o una preferencia del consumidor hacia estos juegos. Los juegos de Acción también forman una gran fracción con un 15.13%, seguidos de cerca por los géneros Casual y Aventura, ambos con poco más del 11%.\n",
    "\n",
    "La Estrategia y la Simulación también tienen una representación significativa, indicando una buena diversidad en los tipos de juegos disponibles. Los RPG están presentes con un 7.32%, lo que podría indicar un nicho sólido para este género.\n",
    "\n",
    "Es interesante notar que hay un 4.39% de juegos clasificados como 'Sin Datos', lo que podría indicar entradas incompletas en la base de datos o juegos que no encajan bien en las categorías estándar.\n",
    "\n",
    "Los géneros 'Free to Play' y 'Early Access' tienen los porcentajes más bajos, lo que podría reflejar una menor cantidad de juegos que se ofrecen gratuitamente o que están en etapas de desarrollo tempranas.\n",
    "\n",
    "En resumen, estos porcentajes me muestran la diversidad del mercado de juegos en mi conjunto de datos y pueden guiar decisiones futuras en cuanto a qué géneros podrían ser más atractivos para desarrollar o invertir."
   ]
  },
  {
   "cell_type": "markdown",
   "metadata": {},
   "source": [
    "Analízaremos la columna **\"Developers\"**"
   ]
  },
  {
   "cell_type": "code",
   "execution_count": 119,
   "metadata": {},
   "outputs": [
    {
     "data": {
      "image/png": "[encoded data removed]",
      "text/plain": [
       "<Figure size 1000x500 with 1 Axes>"
      ]
     },
     "metadata": {},
     "output_type": "display_data"
    }
   ],
   "source": [
    "developers = games_2[\"developer\"].value_counts()\n",
    "\n",
    "# Definir los colores utilizando la paleta \"cubehelix\"\n",
    "colors = sns.color_palette(\"cubehelix\", len(developers[:10]))\n",
    "\n",
    "# Crear el gráfico de barras con los colores especificados\n",
    "plt.figure(figsize=(10, 5))\n",
    "developers[:10].plot(kind='bar', color=colors)\n",
    "plt.xlabel('Developer')\n",
    "plt.ylabel('Cantidad de Juegos')\n",
    "plt.title('Top 10 Developers')\n",
    "plt.show()"
   ]
  },
  {
   "cell_type": "markdown",
   "metadata": {},
   "source": [
    "En este gráfico vemos la cantidad de juegos desarrollados por los 10 principales desarrolladores. La categoría 'Sin Datos' domina claramente, lo que podría indicar que una gran cantidad de juegos no tienen un desarrollador asignado o registrado en la base de datos. Ubisoft San Francisco y Smileworks USA, LLC le siguen, mostrando una producción significativa.\n",
    "\n",
    "La categoría 'Sin Datos', sin embargo, podría considerarse un outlier debido a su tamaño desproporcionadamente grande en comparación con los desarrolladores nombrados, pero esto es más probable que sea un artefacto de la recopilación de datos que un verdadero outlier en el sentido tradicional.\n",
    "\n",
    "Esto sugiere que la mayoría de los juegos en la base de datos están concentrados en un número relativamente pequeño de desarrolladores, con la excepción notable de muchos juegos que no tienen esta información disponible. Esto podría indicar una industria donde algunos desarrolladores grandes dominan en términos de volumen de producción de juegos."
   ]
  },
  {
   "cell_type": "markdown",
   "metadata": {},
   "source": [
    "## **Análisis Exploratorio de Datos (EDA) del Conjunto \"USER REVIEWS\"**"
   ]
  },
  {
   "cell_type": "code",
   "execution_count": 120,
   "metadata": {},
   "outputs": [
    {
     "data": {
      "text/html": [
       "<div>\n",
       "<style scoped>\n",
       "    .dataframe tbody tr th:only-of-type {\n",
       "        vertical-align: middle;\n",
       "    }\n",
       "\n",
       "    .dataframe tbody tr th {\n",
       "        vertical-align: top;\n",
       "    }\n",
       "\n",
       "    .dataframe thead th {\n",
       "        text-align: right;\n",
       "    }\n",
       "</style>\n",
       "<table border=\"1\" class=\"dataframe\">\n",
       "  <thead>\n",
       "    <tr style=\"text-align: right;\">\n",
       "      <th></th>\n",
       "      <th>user_id</th>\n",
       "      <th>items_count</th>\n",
       "      <th>item_id</th>\n",
       "      <th>item_name</th>\n",
       "      <th>playtime_forever</th>\n",
       "      <th>playtime_2weeks</th>\n",
       "    </tr>\n",
       "  </thead>\n",
       "  <tbody>\n",
       "    <tr>\n",
       "      <th>0</th>\n",
       "      <td>76561197970982479</td>\n",
       "      <td>277</td>\n",
       "      <td>10</td>\n",
       "      <td>Counter-Strike</td>\n",
       "      <td>6</td>\n",
       "      <td>0</td>\n",
       "    </tr>\n",
       "    <tr>\n",
       "      <th>1</th>\n",
       "      <td>76561197970982479</td>\n",
       "      <td>277</td>\n",
       "      <td>20</td>\n",
       "      <td>Team Fortress Classic</td>\n",
       "      <td>0</td>\n",
       "      <td>0</td>\n",
       "    </tr>\n",
       "    <tr>\n",
       "      <th>2</th>\n",
       "      <td>76561197970982479</td>\n",
       "      <td>277</td>\n",
       "      <td>30</td>\n",
       "      <td>Day of Defeat</td>\n",
       "      <td>7</td>\n",
       "      <td>0</td>\n",
       "    </tr>\n",
       "  </tbody>\n",
       "</table>\n",
       "</div>"
      ],
      "text/plain": [
       "             user_id  items_count  item_id              item_name  \\\n",
       "0  76561197970982479          277       10         Counter-Strike   \n",
       "1  76561197970982479          277       20  Team Fortress Classic   \n",
       "2  76561197970982479          277       30          Day of Defeat   \n",
       "\n",
       "   playtime_forever  playtime_2weeks  \n",
       "0                 6                0  \n",
       "1                 0                0  \n",
       "2                 7                0  "
      ]
     },
     "execution_count": 120,
     "metadata": {},
     "output_type": "execute_result"
    }
   ],
   "source": [
    "#Revisamos la data\n",
    "user_items.head(3)"
   ]
  },
  {
   "cell_type": "markdown",
   "metadata": {},
   "source": [
    "**Revisión de nulos/datos faltantes y tipos de datos**"
   ]
  },
  {
   "cell_type": "code",
   "execution_count": 121,
   "metadata": {},
   "outputs": [
    {
     "name": "stdout",
     "output_type": "stream",
     "text": [
      "<class 'pandas.core.frame.DataFrame'>\n",
      "RangeIndex: 5094105 entries, 0 to 5094104\n",
      "Data columns (total 6 columns):\n",
      " #   Column            Dtype \n",
      "---  ------            ----- \n",
      " 0   user_id           object\n",
      " 1   items_count       int64 \n",
      " 2   item_id           int64 \n",
      " 3   item_name         object\n",
      " 4   playtime_forever  int64 \n",
      " 5   playtime_2weeks   int64 \n",
      "dtypes: int64(4), object(2)\n",
      "memory usage: 233.2+ MB\n"
     ]
    }
   ],
   "source": [
    "user_items.info()"
   ]
  },
  {
   "cell_type": "code",
   "execution_count": 122,
   "metadata": {},
   "outputs": [],
   "source": [
    "# Convertir la columna 'user_id' a strings\n",
    "user_items['user_id'] = user_items['user_id'].astype(str)"
   ]
  },
  {
   "cell_type": "code",
   "execution_count": 123,
   "metadata": {},
   "outputs": [
    {
     "data": {
      "text/plain": [
       "user_id             0\n",
       "items_count         0\n",
       "item_id             0\n",
       "item_name           0\n",
       "playtime_forever    0\n",
       "playtime_2weeks     0\n",
       "dtype: int64"
      ]
     },
     "execution_count": 123,
     "metadata": {},
     "output_type": "execute_result"
    }
   ],
   "source": [
    "user_items.isnull().sum()"
   ]
  },
  {
   "cell_type": "markdown",
   "metadata": {},
   "source": [
    "No tenemos ningún dato nulo ya que hicimos la limpieza en el ETL"
   ]
  },
  {
   "cell_type": "markdown",
   "metadata": {},
   "source": [
    "**Análisis de duplicados**"
   ]
  },
  {
   "cell_type": "code",
   "execution_count": 124,
   "metadata": {},
   "outputs": [
    {
     "data": {
      "text/html": [
       "<div>\n",
       "<style scoped>\n",
       "    .dataframe tbody tr th:only-of-type {\n",
       "        vertical-align: middle;\n",
       "    }\n",
       "\n",
       "    .dataframe tbody tr th {\n",
       "        vertical-align: top;\n",
       "    }\n",
       "\n",
       "    .dataframe thead th {\n",
       "        text-align: right;\n",
       "    }\n",
       "</style>\n",
       "<table border=\"1\" class=\"dataframe\">\n",
       "  <thead>\n",
       "    <tr style=\"text-align: right;\">\n",
       "      <th></th>\n",
       "      <th>user_id</th>\n",
       "      <th>items_count</th>\n",
       "      <th>item_id</th>\n",
       "      <th>item_name</th>\n",
       "      <th>playtime_forever</th>\n",
       "      <th>playtime_2weeks</th>\n",
       "    </tr>\n",
       "  </thead>\n",
       "  <tbody>\n",
       "  </tbody>\n",
       "</table>\n",
       "</div>"
      ],
      "text/plain": [
       "Empty DataFrame\n",
       "Columns: [user_id, items_count, item_id, item_name, playtime_forever, playtime_2weeks]\n",
       "Index: []"
      ]
     },
     "execution_count": 124,
     "metadata": {},
     "output_type": "execute_result"
    }
   ],
   "source": [
    "# Verificar duplicados, incluyendo la primera ocurrencia\n",
    "duplicados = user_items.duplicated(keep=False)\n",
    "\n",
    "# Mostrar todas las filas que están duplicadas\n",
    "filas_duplicadas = user_items[duplicados]\n",
    "\n",
    "filas_duplicadas"
   ]
  },
  {
   "cell_type": "markdown",
   "metadata": {},
   "source": [
    "Podemos ver que no hay filas duplicadas, lo cual es muy bueno."
   ]
  },
  {
   "cell_type": "markdown",
   "metadata": {},
   "source": [
    "**Análisis estadísticos y correlaciones**"
   ]
  },
  {
   "cell_type": "markdown",
   "metadata": {},
   "source": [
    "Revisemos la columna items_count"
   ]
  },
  {
   "cell_type": "code",
   "execution_count": 125,
   "metadata": {},
   "outputs": [
    {
     "name": "stdout",
     "output_type": "stream",
     "text": [
      "Total de registros: 5094105\n",
      "Media de 'items_count': 315.73\n",
      "Mediana de 'items_count': 137.0\n",
      "Mínimo de 'items_count': 1\n",
      "Máximo de 'items_count': 7762\n"
     ]
    }
   ],
   "source": [
    "# Filtrar los valores 'Dato no disponible' en 'items_count'\n",
    "user_items_cleaned = user_items[user_items['items_count'] != 'Dato no disponible']\n",
    "\n",
    "# Calcular la cantidad total de registros\n",
    "total_registros = user_items_cleaned['items_count'].count()\n",
    "\n",
    "# Calcular la media de 'items_count'\n",
    "media_items = user_items_cleaned['items_count'].astype(int).mean()\n",
    "\n",
    "# Calcular la mediana de 'items_count'\n",
    "mediana_items = user_items_cleaned['items_count'].astype(int).median()\n",
    "\n",
    "# Otras estadísticas descriptivas\n",
    "# Puedes agregar más estadísticas según tu necesidad, como min, max, desviación estándar, etc.\n",
    "estadisticas_descriptivas = user_items_cleaned['items_count'].astype(int).describe()\n",
    "\n",
    "# Calcular el mínimo de 'items_count'\n",
    "min_items = user_items_cleaned['items_count'].astype(int).min()\n",
    "\n",
    "# Calcular el máximo de 'items_count'\n",
    "max_items = user_items_cleaned['items_count'].astype(int).max()\n",
    "\n",
    "# Imprimir los resultados, incluyendo el mínimo y el máximo\n",
    "print(f\"Total de registros: {total_registros}\")\n",
    "print(f\"Media de 'items_count': {media_items:.2f}\")\n",
    "print(f\"Mediana de 'items_count': {mediana_items}\")\n",
    "print(f\"Mínimo de 'items_count': {min_items}\")\n",
    "print(f\"Máximo de 'items_count': {max_items}\")"
   ]
  },
  {
   "cell_type": "markdown",
   "metadata": {},
   "source": [
    "Con los resultados obtenidos sobre el consumo de juegos de los usuarios, se puede realizar el siguiente análisis:\n",
    "\n",
    "* **Total de Registros (5,094,105):** Este es un conjunto de datos bastante grande, lo que indica que tienes una muestra significativa de usuarios. Con más de cinco millones de registros, las estadísticas descriptivas que se obtengan serán representativas de la población de usuarios en cuestión.\n",
    "\n",
    "* **Media de 'items_count' (315.73):** La media, o promedio, representa el número promedio de juegos consumidos por usuario. Un valor de 315.73 sugiere que, en promedio, cada usuario ha consumido una cantidad considerable de juegos. Sin embargo, este número podría estar influenciado por usuarios extremadamente activos. Por lo tanto, es importante considerar otras medidas estadísticas para obtener una imagen más completa.\n",
    "\n",
    "* **Mediana de 'items_count' (137.0):** La mediana, que divide el conjunto de datos en dos mitades iguales, es significativamente más baja que la media, lo que sugiere una distribución asimétrica de los datos. Un valor de mediana de 137 indica que la mitad de los usuarios ha consumido 137 juegos o menos, mientras que la otra mitad ha consumido más. Esta diferencia sustancial entre la media y la mediana sugiere la presencia de usuarios con un número muy alto de juegos consumidos, lo que sesga hacia arriba el promedio.\n",
    "\n",
    "* **Mínimo y Máximo de 'items_count' (1 y 7,762):** El rango de datos va desde usuarios que han consumido solo 1 juego hasta un usuario que ha consumido 7,762 juegos. La amplia gama refleja una gran diversidad en el comportamiento de consumo de juegos entre los usuarios.\n",
    "\n",
    "* **Análisis de Outliers (Valores Atípicos):**  El usuario con 7,762 juegos es un caso extremo y puede considerarse un outlier. Este tipo de usuarios puede tener un impacto significativo en el promedio y puede no ser representativo del usuario típico."
   ]
  },
  {
   "cell_type": "code",
   "execution_count": 126,
   "metadata": {},
   "outputs": [
    {
     "data": {
      "image/png": "[encoded data removed]",
      "text/plain": [
       "<Figure size 1200x500 with 1 Axes>"
      ]
     },
     "metadata": {},
     "output_type": "display_data"
    }
   ],
   "source": [
    "#Crearemos una gráfica para analizar la cantidad de juegos por usuario\n",
    "\n",
    "#Creamos el dataset con el que vamos a trabajar\n",
    "items_user = user_items.groupby('user_id')['items_count'].unique().explode()\n",
    "items_user = pd.DataFrame(items_user)\n",
    "items_user_count = items_user.sort_values('items_count', ascending=False)\n",
    "\n",
    "plt.figure(figsize=(12, 5))\n",
    "\n",
    "# Crea el boxplot\n",
    "sns.boxplot(data=items_user_count, x='items_count')\n",
    "\n",
    "# Personaliza el título y etiquetas de los ejes\n",
    "plt.title('Visión General del Consumo de Juegos por Usuario')\n",
    "plt.xlabel('Cantidad de Juegos')\n",
    "plt.ylabel('')\n",
    "\n",
    "# Muestra el boxplot\n",
    "plt.show()"
   ]
  },
  {
   "cell_type": "code",
   "execution_count": 127,
   "metadata": {},
   "outputs": [
    {
     "data": {
      "text/html": [
       "<div>\n",
       "<style scoped>\n",
       "    .dataframe tbody tr th:only-of-type {\n",
       "        vertical-align: middle;\n",
       "    }\n",
       "\n",
       "    .dataframe tbody tr th {\n",
       "        vertical-align: top;\n",
       "    }\n",
       "\n",
       "    .dataframe thead th {\n",
       "        text-align: right;\n",
       "    }\n",
       "</style>\n",
       "<table border=\"1\" class=\"dataframe\">\n",
       "  <thead>\n",
       "    <tr style=\"text-align: right;\">\n",
       "      <th></th>\n",
       "      <th>items_count</th>\n",
       "    </tr>\n",
       "    <tr>\n",
       "      <th>user_id</th>\n",
       "      <th></th>\n",
       "    </tr>\n",
       "  </thead>\n",
       "  <tbody>\n",
       "    <tr>\n",
       "      <th>phrostb</th>\n",
       "      <td>7762</td>\n",
       "    </tr>\n",
       "    <tr>\n",
       "      <th>thugnificent</th>\n",
       "      <td>6700</td>\n",
       "    </tr>\n",
       "    <tr>\n",
       "      <th>chidvd</th>\n",
       "      <td>6410</td>\n",
       "    </tr>\n",
       "    <tr>\n",
       "      <th>piepai</th>\n",
       "      <td>6132</td>\n",
       "    </tr>\n",
       "    <tr>\n",
       "      <th>mayshowganmore</th>\n",
       "      <td>5027</td>\n",
       "    </tr>\n",
       "    <tr>\n",
       "      <th>DeEggMeister</th>\n",
       "      <td>4576</td>\n",
       "    </tr>\n",
       "    <tr>\n",
       "      <th>76561198070585472</th>\n",
       "      <td>4456</td>\n",
       "    </tr>\n",
       "    <tr>\n",
       "      <th>Steamified</th>\n",
       "      <td>4432</td>\n",
       "    </tr>\n",
       "    <tr>\n",
       "      <th>rawrvixen</th>\n",
       "      <td>4212</td>\n",
       "    </tr>\n",
       "    <tr>\n",
       "      <th>djnemonic</th>\n",
       "      <td>3876</td>\n",
       "    </tr>\n",
       "  </tbody>\n",
       "</table>\n",
       "</div>"
      ],
      "text/plain": [
       "                  items_count\n",
       "user_id                      \n",
       "phrostb                  7762\n",
       "thugnificent             6700\n",
       "chidvd                   6410\n",
       "piepai                   6132\n",
       "mayshowganmore           5027\n",
       "DeEggMeister             4576\n",
       "76561198070585472        4456\n",
       "Steamified               4432\n",
       "rawrvixen                4212\n",
       "djnemonic                3876"
      ]
     },
     "execution_count": 127,
     "metadata": {},
     "output_type": "execute_result"
    }
   ],
   "source": [
    "items_user_count.head(10)"
   ]
  },
  {
   "cell_type": "markdown",
   "metadata": {},
   "source": [
    "Después de analizar la data podemos observar:\n",
    "\n",
    "* **Distribución Sesgada Confirmada:** La mediana significativamente más baja que la media y cercana al primer cuartil valida la observación inicial de una distribución sesgada hacia la derecha. Esto indica que la mayoría de los usuarios tienen un consumo de juegos relativamente bajo, mientras que un pequeño número de usuarios tiene un consumo muy alto, lo que afecta el promedio general.\n",
    "\n",
    "* **Importancia de Outliers:** El análisis de los 10 principales consumidores refuerza la presencia y el impacto de los valores atípicos en el conjunto de datos. Estos usuarios, con consumos que van desde 3,876 hasta 7,762 juegos, son casos extremos que distorsionan las medidas promedio hacia arriba y destacan la influencia de los superusuarios en la plataforma.\n",
    "\n",
    "* **Concentración de Datos:** El corto \"bigote\" izquierdo y la caja concentrada en el extremo inferior indican que hay una gran cantidad de usuarios con un número de juegos por debajo de la media. Esto es un patrón común en las plataformas digitales donde una gran parte de los usuarios consume contenido de manera moderada.\n",
    "\n",
    "* **Variabilidad en el Consumo Superior:** El \"bigote\" derecho más largo refleja una mayor variabilidad y un rango más amplio de consumo entre el 25% superior de los usuarios. Esto sugiere que dentro de los consumidores más activos hay una diversidad considerable en la cantidad de juegos consumidos.\n",
    "\n",
    "* **Perfilamiento de Usuarios:** Los 10 usuarios con la mayor cantidad de juegos consumidos proporcionan un grupo de interés para el perfilamiento y la personalización de servicios. Estos superusuarios pueden tener patrones de consumo únicos, influir en las comunidades de juegos y ser clave para las estrategias de marketing dirigidas.\n",
    "\n",
    "**¿Qué haremos?**\n",
    "\n",
    "Crear un histograma de la cantidad de juegos consumidos y Distribución de Usuarios por Categoría de Consumo de Juegos para ver cómo se distribuyen."
   ]
  },
  {
   "cell_type": "code",
   "execution_count": 128,
   "metadata": {},
   "outputs": [
    {
     "data": {
      "image/png": "[encoded data removed]",
      "text/plain": [
       "<Figure size 1000x500 with 1 Axes>"
      ]
     },
     "metadata": {},
     "output_type": "display_data"
    }
   ],
   "source": [
    "# Crear un histograma de la cantidad de juegos consumidos\n",
    "plt.figure(figsize=(10, 5))\n",
    "sns.histplot(user_items['items_count'], bins=50, kde=True, color='green')\n",
    "plt.title('Histograma de la Cantidad de Juegos Consumidos')\n",
    "plt.xlabel('Cantidad de Juegos Consumidos')\n",
    "plt.ylabel('Número de Usuarios')\n",
    "plt.show()"
   ]
  },
  {
   "cell_type": "code",
   "execution_count": 129,
   "metadata": {},
   "outputs": [
    {
     "data": {
      "image/png": "[encoded data removed]",
      "text/plain": [
       "<Figure size 1000x600 with 1 Axes>"
      ]
     },
     "metadata": {},
     "output_type": "display_data"
    }
   ],
   "source": [
    "# Definir los límites para los intervalos de cantidad de juegos\n",
    "game_bins = [0, 100, 500, 1000, 2000, 5000, 10000]\n",
    "game_labels = ['0-100', '101-500', '501-1000', '1001-2000', '2001-5000', '5001+']\n",
    "\n",
    "# Asignar a cada usuario un intervalo de cantidad de juegos consumidos\n",
    "user_items['game_consumption_category'] = pd.cut(user_items['items_count'], bins=game_bins, labels=game_labels, include_lowest=True)\n",
    "\n",
    "# Calcular la frecuencia de usuarios por categoría de consumo de juegos\n",
    "user_category_counts = user_items['game_consumption_category'].value_counts().sort_index()\n",
    "\n",
    "# Determinar los porcentajes de usuarios en cada categoría\n",
    "user_category_percentages = (user_category_counts / user_category_counts.sum()) * 100\n",
    "\n",
    "# Inicializar la visualización con un gráfico de barras\n",
    "plt.figure(figsize=(10, 6))\n",
    "category_bars = plt.bar(user_category_percentages.index, user_category_percentages)\n",
    "plt.xlabel('Categoría de Consumo de Juegos')\n",
    "plt.ylabel('Porcentaje de Usuarios (%)')\n",
    "plt.title('Distribución de Usuarios por Categoría de Consumo de Juegos')\n",
    "plt.xticks(rotation=45)\n",
    "\n",
    "# Anotar cada barra con el porcentaje correspondiente\n",
    "for bar, percentage in zip(category_bars, user_category_percentages):\n",
    "    plt.text(bar.get_x() + bar.get_width() / 2, bar.get_height(), f'{percentage:.2f}%', ha='center', va='bottom')\n",
    "\n",
    "# Mostrar el gráfico de barras\n",
    "plt.show()"
   ]
  },
  {
   "cell_type": "markdown",
   "metadata": {},
   "source": [
    "Los gráficos presentan una distribución del consumo de juegos con la mayoría de los usuarios cayendo en los rangos inferiores de 0-500 juegos, destacando un patrón de uso moderado dentro de la comunidad de juegos. \n",
    "Un pequeño porcentaje de usuarios posee colecciones de más de 500 juegos, señalando la presencia de un grupo dedicado de superusuarios. Estos datos sugieren que mientras la mayoría se contenta con una cantidad limitada de juegos, hay una minoría que invierte significativamente más en su pasatiempo, posiblemente debido a una mayor pasión por los juegos, más tiempo disponible para jugar, o mayor capacidad económica para adquirir juegos. Estos hallazgos son cruciales para comprender la dinámica del mercado de juegos y pueden informar estrategias de marketing y desarrollo de productos dirigidas a diferentes segmentos de usuarios."
   ]
  },
  {
   "cell_type": "markdown",
   "metadata": {},
   "source": [
    "**Revisemos la columna playtime_forever_**"
   ]
  },
  {
   "cell_type": "code",
   "execution_count": 130,
   "metadata": {},
   "outputs": [
    {
     "data": {
      "image/png": "[encoded data removed]",
      "text/plain": [
       "<Figure size 800x600 with 1 Axes>"
      ]
     },
     "metadata": {},
     "output_type": "display_data"
    }
   ],
   "source": [
    "# Gráfico de caja para 'playtime_forever' en User_items\n",
    "plt.figure(figsize=(8, 6))\n",
    "sns.boxplot(x=user_items['playtime_forever'], orient='vertical', width=0.5, color='skyblue')\n",
    "plt.title('Gráfico de Caja de playtime_forever')\n",
    "plt.xlabel('playtime_forever')\n",
    "plt.show()"
   ]
  },
  {
   "cell_type": "markdown",
   "metadata": {},
   "source": [
    "El gráfico de caja muestra que la mayoría de los usuarios tiene un tiempo de juego relativamente bajo, con la mediana cercana al cuartil inferior. Existen varios valores atípicos que indican que hay usuarios con tiempos de juego excepcionalmente altos. Estos outliers podrían representar a jugadores muy activos o aquellos que dejan los juegos en funcionamiento por largos períodos. Por ello, vamos a revisar los valores atípicos."
   ]
  },
  {
   "cell_type": "code",
   "execution_count": 131,
   "metadata": {},
   "outputs": [
    {
     "data": {
      "text/html": [
       "<div>\n",
       "<style scoped>\n",
       "    .dataframe tbody tr th:only-of-type {\n",
       "        vertical-align: middle;\n",
       "    }\n",
       "\n",
       "    .dataframe tbody tr th {\n",
       "        vertical-align: top;\n",
       "    }\n",
       "\n",
       "    .dataframe thead th {\n",
       "        text-align: right;\n",
       "    }\n",
       "</style>\n",
       "<table border=\"1\" class=\"dataframe\">\n",
       "  <thead>\n",
       "    <tr style=\"text-align: right;\">\n",
       "      <th></th>\n",
       "      <th>user_id</th>\n",
       "      <th>items_count</th>\n",
       "      <th>item_id</th>\n",
       "      <th>item_name</th>\n",
       "      <th>playtime_forever</th>\n",
       "      <th>playtime_2weeks</th>\n",
       "      <th>game_consumption_category</th>\n",
       "    </tr>\n",
       "  </thead>\n",
       "  <tbody>\n",
       "    <tr>\n",
       "      <th>8</th>\n",
       "      <td>76561197970982479</td>\n",
       "      <td>277</td>\n",
       "      <td>300</td>\n",
       "      <td>Day of Defeat: Source</td>\n",
       "      <td>4733</td>\n",
       "      <td>0</td>\n",
       "      <td>101-500</td>\n",
       "    </tr>\n",
       "    <tr>\n",
       "      <th>9</th>\n",
       "      <td>76561197970982479</td>\n",
       "      <td>277</td>\n",
       "      <td>240</td>\n",
       "      <td>Counter-Strike: Source</td>\n",
       "      <td>1853</td>\n",
       "      <td>0</td>\n",
       "      <td>101-500</td>\n",
       "    </tr>\n",
       "    <tr>\n",
       "      <th>16</th>\n",
       "      <td>76561197970982479</td>\n",
       "      <td>277</td>\n",
       "      <td>6910</td>\n",
       "      <td>Deus Ex: Game of the Year Edition</td>\n",
       "      <td>2685</td>\n",
       "      <td>0</td>\n",
       "      <td>101-500</td>\n",
       "    </tr>\n",
       "    <tr>\n",
       "      <th>41</th>\n",
       "      <td>76561197970982479</td>\n",
       "      <td>277</td>\n",
       "      <td>17460</td>\n",
       "      <td>Mass Effect</td>\n",
       "      <td>1613</td>\n",
       "      <td>0</td>\n",
       "      <td>101-500</td>\n",
       "    </tr>\n",
       "    <tr>\n",
       "      <th>46</th>\n",
       "      <td>76561197970982479</td>\n",
       "      <td>277</td>\n",
       "      <td>1250</td>\n",
       "      <td>Killing Floor</td>\n",
       "      <td>10006</td>\n",
       "      <td>0</td>\n",
       "      <td>101-500</td>\n",
       "    </tr>\n",
       "    <tr>\n",
       "      <th>...</th>\n",
       "      <td>...</td>\n",
       "      <td>...</td>\n",
       "      <td>...</td>\n",
       "      <td>...</td>\n",
       "      <td>...</td>\n",
       "      <td>...</td>\n",
       "      <td>...</td>\n",
       "    </tr>\n",
       "    <tr>\n",
       "      <th>5093534</th>\n",
       "      <td>76561198312638244</td>\n",
       "      <td>36</td>\n",
       "      <td>362890</td>\n",
       "      <td>Black Mesa</td>\n",
       "      <td>2184</td>\n",
       "      <td>0</td>\n",
       "      <td>0-100</td>\n",
       "    </tr>\n",
       "    <tr>\n",
       "      <th>5093547</th>\n",
       "      <td>76561198313357718</td>\n",
       "      <td>7</td>\n",
       "      <td>730</td>\n",
       "      <td>Counter-Strike: Global Offensive</td>\n",
       "      <td>2317</td>\n",
       "      <td>0</td>\n",
       "      <td>0-100</td>\n",
       "    </tr>\n",
       "    <tr>\n",
       "      <th>5093548</th>\n",
       "      <td>POMFP0MF</td>\n",
       "      <td>1</td>\n",
       "      <td>730</td>\n",
       "      <td>Counter-Strike: Global Offensive</td>\n",
       "      <td>2987</td>\n",
       "      <td>0</td>\n",
       "      <td>0-100</td>\n",
       "    </tr>\n",
       "    <tr>\n",
       "      <th>5093567</th>\n",
       "      <td>76561198319916652</td>\n",
       "      <td>4</td>\n",
       "      <td>370240</td>\n",
       "      <td>NBA 2K16</td>\n",
       "      <td>1533</td>\n",
       "      <td>19</td>\n",
       "      <td>0-100</td>\n",
       "    </tr>\n",
       "    <tr>\n",
       "      <th>5093896</th>\n",
       "      <td>ArkPlays7</td>\n",
       "      <td>4</td>\n",
       "      <td>730</td>\n",
       "      <td>Counter-Strike: Global Offensive</td>\n",
       "      <td>4557</td>\n",
       "      <td>1698</td>\n",
       "      <td>0-100</td>\n",
       "    </tr>\n",
       "  </tbody>\n",
       "</table>\n",
       "<p>550419 rows × 7 columns</p>\n",
       "</div>"
      ],
      "text/plain": [
       "                   user_id  items_count  item_id  \\\n",
       "8        76561197970982479          277      300   \n",
       "9        76561197970982479          277      240   \n",
       "16       76561197970982479          277     6910   \n",
       "41       76561197970982479          277    17460   \n",
       "46       76561197970982479          277     1250   \n",
       "...                    ...          ...      ...   \n",
       "5093534  76561198312638244           36   362890   \n",
       "5093547  76561198313357718            7      730   \n",
       "5093548           POMFP0MF            1      730   \n",
       "5093567  76561198319916652            4   370240   \n",
       "5093896          ArkPlays7            4      730   \n",
       "\n",
       "                                 item_name  playtime_forever  playtime_2weeks  \\\n",
       "8                    Day of Defeat: Source              4733                0   \n",
       "9                   Counter-Strike: Source              1853                0   \n",
       "16       Deus Ex: Game of the Year Edition              2685                0   \n",
       "41                             Mass Effect              1613                0   \n",
       "46                           Killing Floor             10006                0   \n",
       "...                                    ...               ...              ...   \n",
       "5093534                         Black Mesa              2184                0   \n",
       "5093547   Counter-Strike: Global Offensive              2317                0   \n",
       "5093548   Counter-Strike: Global Offensive              2987                0   \n",
       "5093567                           NBA 2K16              1533               19   \n",
       "5093896   Counter-Strike: Global Offensive              4557             1698   \n",
       "\n",
       "        game_consumption_category  \n",
       "8                         101-500  \n",
       "9                         101-500  \n",
       "16                        101-500  \n",
       "41                        101-500  \n",
       "46                        101-500  \n",
       "...                           ...  \n",
       "5093534                     0-100  \n",
       "5093547                     0-100  \n",
       "5093548                     0-100  \n",
       "5093567                     0-100  \n",
       "5093896                     0-100  \n",
       "\n",
       "[550419 rows x 7 columns]"
      ]
     },
     "execution_count": 131,
     "metadata": {},
     "output_type": "execute_result"
    }
   ],
   "source": [
    "# Calculamos los Q1 y Q3 a partir de los datos en horas\n",
    "Q1 = np.percentile(user_items['playtime_forever'], 25)\n",
    "Q3 = np.percentile(user_items['playtime_forever'], 75)\n",
    "\n",
    "# Calculamos el IQR\n",
    "IQR = Q3 - Q1\n",
    "\n",
    "# Definimos el umbral para valores atípicos\n",
    "umbral = 3 * IQR\n",
    "\n",
    "# identificamos los valores atípicos\n",
    "valores_atipicos = user_items[(user_items['playtime_forever'] < Q1 - umbral) | (user_items['playtime_forever'] > Q3 + umbral)]\n",
    "\n",
    "#Imprimimos los resultados\n",
    "valores_atipicos"
   ]
  },
  {
   "cell_type": "code",
   "execution_count": 132,
   "metadata": {},
   "outputs": [
    {
     "name": "stdout",
     "output_type": "stream",
     "text": [
      "Rango del Q1: 0.0\n",
      "Rango del Q3: 355.0\n",
      "Rango IQR: 355.0\n"
     ]
    }
   ],
   "source": [
    "# Observamos los rangos\n",
    "print(\"Rango del Q1:\", Q1)\n",
    "print(\"Rango del Q3:\", Q3)\n",
    "print(\"Rango IQR:\", IQR)"
   ]
  },
  {
   "cell_type": "markdown",
   "metadata": {},
   "source": [
    "El análisis revela que el tiempo de juego acumulado varía ampliamente, con un tercer cuartil en aproximadamente 5.92 horas. Utilizando el IQR, se han identificado outliers que podrían representar casos de uso intensivo o inusual. No obstante, la falta de anomalías flagrantes sugiere que los datos son consistentes con patrones de juego realistas. Se continúa con la evaluación utilizando Z-scores para una validación más rigurosa de los valores extremos en comparación con tendencias conocidas del dominio de videojuegos."
   ]
  },
  {
   "cell_type": "code",
   "execution_count": 133,
   "metadata": {},
   "outputs": [
    {
     "data": {
      "text/html": [
       "<div>\n",
       "<style scoped>\n",
       "    .dataframe tbody tr th:only-of-type {\n",
       "        vertical-align: middle;\n",
       "    }\n",
       "\n",
       "    .dataframe tbody tr th {\n",
       "        vertical-align: top;\n",
       "    }\n",
       "\n",
       "    .dataframe thead th {\n",
       "        text-align: right;\n",
       "    }\n",
       "</style>\n",
       "<table border=\"1\" class=\"dataframe\">\n",
       "  <thead>\n",
       "    <tr style=\"text-align: right;\">\n",
       "      <th></th>\n",
       "      <th>user_id</th>\n",
       "      <th>items_count</th>\n",
       "      <th>item_id</th>\n",
       "      <th>item_name</th>\n",
       "      <th>playtime_forever</th>\n",
       "      <th>playtime_2weeks</th>\n",
       "      <th>game_consumption_category</th>\n",
       "    </tr>\n",
       "  </thead>\n",
       "  <tbody>\n",
       "    <tr>\n",
       "      <th>1301</th>\n",
       "      <td>evcentric</td>\n",
       "      <td>137</td>\n",
       "      <td>466170</td>\n",
       "      <td>Idling to Rule the Gods</td>\n",
       "      <td>28545</td>\n",
       "      <td>1554</td>\n",
       "      <td>101-500</td>\n",
       "    </tr>\n",
       "    <tr>\n",
       "      <th>1354</th>\n",
       "      <td>Riot-Punch</td>\n",
       "      <td>328</td>\n",
       "      <td>12210</td>\n",
       "      <td>Grand Theft Auto IV</td>\n",
       "      <td>52062</td>\n",
       "      <td>0</td>\n",
       "      <td>101-500</td>\n",
       "    </tr>\n",
       "    <tr>\n",
       "      <th>2277</th>\n",
       "      <td>MinxIsBetterThanPotatoes</td>\n",
       "      <td>371</td>\n",
       "      <td>730</td>\n",
       "      <td>Counter-Strike: Global Offensive</td>\n",
       "      <td>74076</td>\n",
       "      <td>118</td>\n",
       "      <td>101-500</td>\n",
       "    </tr>\n",
       "    <tr>\n",
       "      <th>2696</th>\n",
       "      <td>NitemarePK</td>\n",
       "      <td>304</td>\n",
       "      <td>730</td>\n",
       "      <td>Counter-Strike: Global Offensive</td>\n",
       "      <td>32372</td>\n",
       "      <td>95</td>\n",
       "      <td>101-500</td>\n",
       "    </tr>\n",
       "    <tr>\n",
       "      <th>2823</th>\n",
       "      <td>NitemarePK</td>\n",
       "      <td>304</td>\n",
       "      <td>346900</td>\n",
       "      <td>AdVenture Capitalist</td>\n",
       "      <td>45058</td>\n",
       "      <td>0</td>\n",
       "      <td>101-500</td>\n",
       "    </tr>\n",
       "    <tr>\n",
       "      <th>...</th>\n",
       "      <td>...</td>\n",
       "      <td>...</td>\n",
       "      <td>...</td>\n",
       "      <td>...</td>\n",
       "      <td>...</td>\n",
       "      <td>...</td>\n",
       "      <td>...</td>\n",
       "    </tr>\n",
       "    <tr>\n",
       "      <th>5090676</th>\n",
       "      <td>SenpaiDemon</td>\n",
       "      <td>291</td>\n",
       "      <td>730</td>\n",
       "      <td>Counter-Strike: Global Offensive</td>\n",
       "      <td>36818</td>\n",
       "      <td>949</td>\n",
       "      <td>101-500</td>\n",
       "    </tr>\n",
       "    <tr>\n",
       "      <th>5090934</th>\n",
       "      <td>3214213216</td>\n",
       "      <td>107</td>\n",
       "      <td>730</td>\n",
       "      <td>Counter-Strike: Global Offensive</td>\n",
       "      <td>46248</td>\n",
       "      <td>0</td>\n",
       "      <td>101-500</td>\n",
       "    </tr>\n",
       "    <tr>\n",
       "      <th>5091127</th>\n",
       "      <td>nathanahtan</td>\n",
       "      <td>2</td>\n",
       "      <td>304930</td>\n",
       "      <td>Unturned</td>\n",
       "      <td>28379</td>\n",
       "      <td>1297</td>\n",
       "      <td>0-100</td>\n",
       "    </tr>\n",
       "    <tr>\n",
       "      <th>5091465</th>\n",
       "      <td>Haldirr</td>\n",
       "      <td>26</td>\n",
       "      <td>730</td>\n",
       "      <td>Counter-Strike: Global Offensive</td>\n",
       "      <td>34753</td>\n",
       "      <td>0</td>\n",
       "      <td>0-100</td>\n",
       "    </tr>\n",
       "    <tr>\n",
       "      <th>5091864</th>\n",
       "      <td>sexyawp</td>\n",
       "      <td>9</td>\n",
       "      <td>730</td>\n",
       "      <td>Counter-Strike: Global Offensive</td>\n",
       "      <td>29789</td>\n",
       "      <td>0</td>\n",
       "      <td>0-100</td>\n",
       "    </tr>\n",
       "  </tbody>\n",
       "</table>\n",
       "<p>28862 rows × 7 columns</p>\n",
       "</div>"
      ],
      "text/plain": [
       "                          user_id  items_count  item_id  \\\n",
       "1301                    evcentric          137   466170   \n",
       "1354                   Riot-Punch          328    12210   \n",
       "2277     MinxIsBetterThanPotatoes          371      730   \n",
       "2696                   NitemarePK          304      730   \n",
       "2823                   NitemarePK          304   346900   \n",
       "...                           ...          ...      ...   \n",
       "5090676               SenpaiDemon          291      730   \n",
       "5090934                3214213216          107      730   \n",
       "5091127               nathanahtan            2   304930   \n",
       "5091465                   Haldirr           26      730   \n",
       "5091864                   sexyawp            9      730   \n",
       "\n",
       "                                item_name  playtime_forever  playtime_2weeks  \\\n",
       "1301              Idling to Rule the Gods             28545             1554   \n",
       "1354                  Grand Theft Auto IV             52062                0   \n",
       "2277     Counter-Strike: Global Offensive             74076              118   \n",
       "2696     Counter-Strike: Global Offensive             32372               95   \n",
       "2823                 AdVenture Capitalist             45058                0   \n",
       "...                                   ...               ...              ...   \n",
       "5090676  Counter-Strike: Global Offensive             36818              949   \n",
       "5090934  Counter-Strike: Global Offensive             46248                0   \n",
       "5091127                          Unturned             28379             1297   \n",
       "5091465  Counter-Strike: Global Offensive             34753                0   \n",
       "5091864  Counter-Strike: Global Offensive             29789                0   \n",
       "\n",
       "        game_consumption_category  \n",
       "1301                      101-500  \n",
       "1354                      101-500  \n",
       "2277                      101-500  \n",
       "2696                      101-500  \n",
       "2823                      101-500  \n",
       "...                           ...  \n",
       "5090676                   101-500  \n",
       "5090934                   101-500  \n",
       "5091127                     0-100  \n",
       "5091465                     0-100  \n",
       "5091864                     0-100  \n",
       "\n",
       "[28862 rows x 7 columns]"
      ]
     },
     "execution_count": 133,
     "metadata": {},
     "output_type": "execute_result"
    }
   ],
   "source": [
    "# Calcular el puntaje Z para cada valor de tiempo de juego\n",
    "puntajes_z = np.abs(stats.zscore(user_items['playtime_forever']))\n",
    "\n",
    "# Establecer un umbral alto para identificar valores extremos\n",
    "umbral_extremo = 5\n",
    "\n",
    "# Filtrar los registros que exceden el umbral de puntaje Z\n",
    "registros_extremos = user_items[puntajes_z > umbral_extremo]\n",
    "\n",
    "#Revisamos la tabla\n",
    "registros_extremos"
   ]
  },
  {
   "cell_type": "markdown",
   "metadata": {},
   "source": [
    "Tras un análisis riguroso de la variable playtime_forever, no se han detectado valores atípicos extremos que comprometan la calidad de los datos. A través de la aplicación de métodos estadísticos robustos, como el IQR y el Z-score con un umbral elevado, los datos han demostrado ser consistentes con un comportamiento de juego plausible. Por tanto, en lugar de descartar estos valores, se opta por retenerlos para preservar la integridad y riqueza de la información, que podría ser crucial para futuros análisis o modelos predictivos."
   ]
  },
  {
   "cell_type": "markdown",
   "metadata": {},
   "source": [
    "## **Análisis Exploratorio de Datos (EDA) del Conjunto \"USER ITEMS\"**"
   ]
  },
  {
   "cell_type": "code",
   "execution_count": 134,
   "metadata": {},
   "outputs": [
    {
     "data": {
      "image/png": "[encoded data removed]",
      "text/plain": [
       "<Figure size 1000x800 with 2 Axes>"
      ]
     },
     "metadata": {},
     "output_type": "display_data"
    }
   ],
   "source": [
    "# Extracción de columnas con datos cuantitativos para análisis de correlación\n",
    "datos_numericos = user_items[['items_count', 'item_id', 'playtime_forever']]\n",
    "\n",
    "# Cálculo de la matriz de correlación para las columnas seleccionadas\n",
    "matriz_correlacion = datos_numericos.corr()\n",
    "\n",
    "# Visualización de la matriz de correlación a través de un mapa de calor\n",
    "plt.figure(figsize=(10, 8))\n",
    "sns.heatmap(matriz_correlacion, annot=True, cmap='coolwarm', fmt=\".2f\")\n",
    "plt.title('Mapa de Calor de Correlación entre Características')\n",
    "plt.show()"
   ]
  },
  {
   "cell_type": "markdown",
   "metadata": {},
   "source": [
    "Puedo observar en el gráfico de correlación que no hay relaciones lineales fuertes entre las variables de conteo de ítems, identificadores de ítems y tiempo total de juego. Las correlaciones son todas menores a |0.1|, lo que implica que la variabilidad en una de estas métricas no se explica de manera significativa por la variabilidad en las otras. En términos de análisis de datos, esto significa que no podemos predecir el tiempo de juego basándonos en el número de ítems que un usuario posee o su ID de ítem, y viceversa. Estos hallazgos podrían sugerir la necesidad de investigar factores adicionales o más complejos que podrían influir en cómo los usuarios interactúan con los juegos en la plataforma."
   ]
  },
  {
   "cell_type": "markdown",
   "metadata": {},
   "source": [
    "Haremos una **matriz de correlación** con más datos de todas las tablas"
   ]
  },
  {
   "cell_type": "code",
   "execution_count": 139,
   "metadata": {},
   "outputs": [
    {
     "data": {
      "image/png": "[encoded data removed]",
      "text/plain": [
       "<Figure size 1000x800 with 2 Axes>"
      ]
     },
     "metadata": {},
     "output_type": "display_data"
    }
   ],
   "source": [
    "# renombramos \"reviews_item_id\" por \"item_id\"\n",
    "user_reviews.rename(columns={'reviews_item_id': 'item_id'}, inplace=True)\n",
    "\n",
    "# Realizamos el merge de los DataFrames usando 'user_id' y 'item_id' como claves\n",
    "combined_df = pd.merge(user_items, user_reviews[['user_id', 'item_id', 'sentiment_analysis']], on=['user_id', 'item_id'])\n",
    "combined_df = pd.merge(combined_df, steam_games[['item_id']], on='item_id')\n",
    "\n",
    "# Seleccionamos solo las columnas numéricas para la matriz de correlación\n",
    "numeric_columns = combined_df.select_dtypes(include=[np.number])\n",
    "\n",
    "# Calcula la matriz de correlación solo con las columnas numéricas\n",
    "correlation_matrix = numeric_columns.corr()\n",
    "\n",
    "# Visualiza la matriz de correlación con un mapa de calor\n",
    "plt.figure(figsize=(10, 8))\n",
    "sns.heatmap(correlation_matrix, annot=True, cmap='coolwarm', linewidths=0.5)\n",
    "plt.title('Mapa de Calor de Correlaciones entre Datos de Usuarios, Reseñas y Juegos')\n",
    "plt.show()"
   ]
  },
  {
   "cell_type": "markdown",
   "metadata": {},
   "source": [
    "No hay correlaciones fuertes entre las variables presentadas. La mayoría de los valores de correlación están cerca de cero, lo que indica una falta de relación lineal directa entre las variables. También podemos ver que:\n",
    "\n",
    "* La variable item_id tiene una correlación negativa moderada con playtime_forever, lo que podría sugerir que ciertos juegos, posiblemente aquellos con identificadores más altos (que podrían ser títulos más recientes si item_id está basado en el tiempo), se juegan menos en términos de tiempo acumulado. Sin embargo, esta correlación sigue siendo relativamente débil.\n",
    "\n",
    "* Playtime_forever y playtime_2weeks tienen una correlación positiva, lo que es esperado ya que si los usuarios juegan mucho un juego a largo plazo, también es probable que lo hayan jugado recientemente.\n",
    "\n",
    "* Items_count y otras variables no muestran una relación significativa, lo que indica que la cantidad de juegos que posee un usuario no está fuertemente conectada con el tiempo que juega, el ID de los juegos que posee, o el análisis de sentimiento de las reseñas.\n",
    "\n",
    "* La correlación entre playtime_2weeks y sentiment_analysis es prácticamente nula, sugiriendo que el tiempo de juego reciente y los sentimientos expresados en las reseñas no están relacionados"
   ]
  },
  {
   "cell_type": "markdown",
   "metadata": {},
   "source": [
    "### **Análisis Exploratorio de Datos (EDA) del Conjunto \"user_reviews\"**"
   ]
  },
  {
   "cell_type": "code",
   "execution_count": 140,
   "metadata": {},
   "outputs": [
    {
     "data": {
      "text/html": [
       "<div>\n",
       "<style scoped>\n",
       "    .dataframe tbody tr th:only-of-type {\n",
       "        vertical-align: middle;\n",
       "    }\n",
       "\n",
       "    .dataframe tbody tr th {\n",
       "        vertical-align: top;\n",
       "    }\n",
       "\n",
       "    .dataframe thead th {\n",
       "        text-align: right;\n",
       "    }\n",
       "</style>\n",
       "<table border=\"1\" class=\"dataframe\">\n",
       "  <thead>\n",
       "    <tr style=\"text-align: right;\">\n",
       "      <th></th>\n",
       "      <th>user_id</th>\n",
       "      <th>item_id</th>\n",
       "      <th>reviews_recommend</th>\n",
       "      <th>sentiment_analysis</th>\n",
       "      <th>reviews_year</th>\n",
       "    </tr>\n",
       "  </thead>\n",
       "  <tbody>\n",
       "    <tr>\n",
       "      <th>0</th>\n",
       "      <td>76561197970982479</td>\n",
       "      <td>1250.0</td>\n",
       "      <td>True</td>\n",
       "      <td>2</td>\n",
       "      <td>2011</td>\n",
       "    </tr>\n",
       "    <tr>\n",
       "      <th>1</th>\n",
       "      <td>js41637</td>\n",
       "      <td>251610.0</td>\n",
       "      <td>True</td>\n",
       "      <td>2</td>\n",
       "      <td>2014</td>\n",
       "    </tr>\n",
       "    <tr>\n",
       "      <th>2</th>\n",
       "      <td>evcentric</td>\n",
       "      <td>248820.0</td>\n",
       "      <td>True</td>\n",
       "      <td>2</td>\n",
       "      <td>Dato no disponible</td>\n",
       "    </tr>\n",
       "    <tr>\n",
       "      <th>3</th>\n",
       "      <td>doctr</td>\n",
       "      <td>250320.0</td>\n",
       "      <td>True</td>\n",
       "      <td>2</td>\n",
       "      <td>2013</td>\n",
       "    </tr>\n",
       "    <tr>\n",
       "      <th>4</th>\n",
       "      <td>maplemage</td>\n",
       "      <td>211420.0</td>\n",
       "      <td>True</td>\n",
       "      <td>1</td>\n",
       "      <td>2014</td>\n",
       "    </tr>\n",
       "  </tbody>\n",
       "</table>\n",
       "</div>"
      ],
      "text/plain": [
       "             user_id   item_id reviews_recommend  sentiment_analysis  \\\n",
       "0  76561197970982479    1250.0              True                   2   \n",
       "1            js41637  251610.0              True                   2   \n",
       "2          evcentric  248820.0              True                   2   \n",
       "3              doctr  250320.0              True                   2   \n",
       "4          maplemage  211420.0              True                   1   \n",
       "\n",
       "         reviews_year  \n",
       "0                2011  \n",
       "1                2014  \n",
       "2  Dato no disponible  \n",
       "3                2013  \n",
       "4                2014  "
      ]
     },
     "execution_count": 140,
     "metadata": {},
     "output_type": "execute_result"
    }
   ],
   "source": [
    "user_reviews.head()"
   ]
  },
  {
   "cell_type": "markdown",
   "metadata": {},
   "source": [
    "**Revisión de datos faltantes/nulos**"
   ]
  },
  {
   "cell_type": "code",
   "execution_count": 141,
   "metadata": {},
   "outputs": [
    {
     "data": {
      "text/plain": [
       "user_id                  0\n",
       "item_id               6548\n",
       "reviews_recommend     6548\n",
       "sentiment_analysis       0\n",
       "reviews_year             0\n",
       "dtype: int64"
      ]
     },
     "execution_count": 141,
     "metadata": {},
     "output_type": "execute_result"
    }
   ],
   "source": [
    "user_reviews.isnull().sum()"
   ]
  },
  {
   "cell_type": "markdown",
   "metadata": {},
   "source": [
    "Item_id y reviews_recommend tiene la misma cantidad de nulos, vamos a revisar si son las mismas filas"
   ]
  },
  {
   "cell_type": "code",
   "execution_count": 144,
   "metadata": {},
   "outputs": [
    {
     "data": {
      "text/plain": [
       "6548"
      ]
     },
     "execution_count": 144,
     "metadata": {},
     "output_type": "execute_result"
    }
   ],
   "source": [
    "# Dataframe de valores nulos en la columna 'item_id'\n",
    "nulos_item_id = user_reviews['item_id'].isnull()\n",
    "\n",
    "# Dataframe de nulos en la columna 'reviews_recommend'\n",
    "nulos_reviews_recommend = user_reviews['reviews_recommend'].isnull()\n",
    "\n",
    "# Ahora, para saber si son los mismos, comparamos las dos series de booleanos\n",
    "nulos_comunes = nulos_item_id & nulos_reviews_recommend\n",
    "\n",
    "# Creamos DataFrames para mostrar los resultados\n",
    "nulos_item_id_df = pd.DataFrame(nulos_item_id)\n",
    "nulos_reviews_recommend_df = pd.DataFrame(nulos_reviews_recommend)\n",
    "nulos_comunes_df = pd.DataFrame(nulos_comunes)\n",
    "\n",
    "# Calculamos el total de nulos y el total de nulos comunes\n",
    "total_nulos_item_id = nulos_item_id.sum()\n",
    "total_nulos_reviews_recommend = nulos_reviews_recommend.sum()\n",
    "total_nulos_comunes = nulos_comunes.sum()\n",
    "\n",
    "total_nulos_comunes"
   ]
  },
  {
   "cell_type": "markdown",
   "metadata": {},
   "source": [
    "Podemos concluir que son las mismas filas, las que tienen valores faltantes tanto en 'item_id' y 'reviews_recommend'"
   ]
  },
  {
   "cell_type": "markdown",
   "metadata": {},
   "source": [
    "**Valores Duplicados**"
   ]
  },
  {
   "cell_type": "code",
   "execution_count": 151,
   "metadata": {},
   "outputs": [
    {
     "data": {
      "text/html": [
       "<div>\n",
       "<style scoped>\n",
       "    .dataframe tbody tr th:only-of-type {\n",
       "        vertical-align: middle;\n",
       "    }\n",
       "\n",
       "    .dataframe tbody tr th {\n",
       "        vertical-align: top;\n",
       "    }\n",
       "\n",
       "    .dataframe thead th {\n",
       "        text-align: right;\n",
       "    }\n",
       "</style>\n",
       "<table border=\"1\" class=\"dataframe\">\n",
       "  <thead>\n",
       "    <tr style=\"text-align: right;\">\n",
       "      <th></th>\n",
       "      <th>user_id</th>\n",
       "      <th>item_id</th>\n",
       "      <th>reviews_recommend</th>\n",
       "      <th>sentiment_analysis</th>\n",
       "      <th>reviews_year</th>\n",
       "    </tr>\n",
       "  </thead>\n",
       "  <tbody>\n",
       "    <tr>\n",
       "      <th>1624</th>\n",
       "      <td>76561198080824028</td>\n",
       "      <td>208090.0</td>\n",
       "      <td>True</td>\n",
       "      <td>2</td>\n",
       "      <td>2014</td>\n",
       "    </tr>\n",
       "    <tr>\n",
       "      <th>3589</th>\n",
       "      <td>bl00dlock</td>\n",
       "      <td>730.0</td>\n",
       "      <td>True</td>\n",
       "      <td>1</td>\n",
       "      <td>2015</td>\n",
       "    </tr>\n",
       "    <tr>\n",
       "      <th>4230</th>\n",
       "      <td>76561198061294635</td>\n",
       "      <td>440.0</td>\n",
       "      <td>True</td>\n",
       "      <td>2</td>\n",
       "      <td>2014</td>\n",
       "    </tr>\n",
       "    <tr>\n",
       "      <th>4301</th>\n",
       "      <td>SpiderTheLoko</td>\n",
       "      <td>8870.0</td>\n",
       "      <td>True</td>\n",
       "      <td>2</td>\n",
       "      <td>2014</td>\n",
       "    </tr>\n",
       "    <tr>\n",
       "      <th>4385</th>\n",
       "      <td>76561197999539608</td>\n",
       "      <td>440.0</td>\n",
       "      <td>True</td>\n",
       "      <td>2</td>\n",
       "      <td>2014</td>\n",
       "    </tr>\n",
       "    <tr>\n",
       "      <th>6210</th>\n",
       "      <td>qwertybmwh1994</td>\n",
       "      <td>1250.0</td>\n",
       "      <td>True</td>\n",
       "      <td>1</td>\n",
       "      <td>2013</td>\n",
       "    </tr>\n",
       "    <tr>\n",
       "      <th>6860</th>\n",
       "      <td>flippy12343</td>\n",
       "      <td>4000.0</td>\n",
       "      <td>True</td>\n",
       "      <td>2</td>\n",
       "      <td>2014</td>\n",
       "    </tr>\n",
       "    <tr>\n",
       "      <th>7189</th>\n",
       "      <td>76561198057905001</td>\n",
       "      <td>730.0</td>\n",
       "      <td>True</td>\n",
       "      <td>2</td>\n",
       "      <td>2015</td>\n",
       "    </tr>\n",
       "    <tr>\n",
       "      <th>9293</th>\n",
       "      <td>HenezRS</td>\n",
       "      <td>730.0</td>\n",
       "      <td>True</td>\n",
       "      <td>2</td>\n",
       "      <td>2014</td>\n",
       "    </tr>\n",
       "    <tr>\n",
       "      <th>10965</th>\n",
       "      <td>76561198068952127</td>\n",
       "      <td>730.0</td>\n",
       "      <td>True</td>\n",
       "      <td>2</td>\n",
       "      <td>2015</td>\n",
       "    </tr>\n",
       "    <tr>\n",
       "      <th>10966</th>\n",
       "      <td>76561198068952127</td>\n",
       "      <td>730.0</td>\n",
       "      <td>True</td>\n",
       "      <td>2</td>\n",
       "      <td>2015</td>\n",
       "    </tr>\n",
       "    <tr>\n",
       "      <th>11288</th>\n",
       "      <td>76561198076708943</td>\n",
       "      <td>256410.0</td>\n",
       "      <td>True</td>\n",
       "      <td>1</td>\n",
       "      <td>2014</td>\n",
       "    </tr>\n",
       "    <tr>\n",
       "      <th>11446</th>\n",
       "      <td>donkeyduk01</td>\n",
       "      <td>236390.0</td>\n",
       "      <td>True</td>\n",
       "      <td>2</td>\n",
       "      <td>2015</td>\n",
       "    </tr>\n",
       "    <tr>\n",
       "      <th>11493</th>\n",
       "      <td>76561197999539608</td>\n",
       "      <td>440.0</td>\n",
       "      <td>True</td>\n",
       "      <td>2</td>\n",
       "      <td>2014</td>\n",
       "    </tr>\n",
       "    <tr>\n",
       "      <th>12350</th>\n",
       "      <td>MrEpicz</td>\n",
       "      <td>8930.0</td>\n",
       "      <td>True</td>\n",
       "      <td>2</td>\n",
       "      <td>2014</td>\n",
       "    </tr>\n",
       "    <tr>\n",
       "      <th>13083</th>\n",
       "      <td>Thugorran</td>\n",
       "      <td>730.0</td>\n",
       "      <td>True</td>\n",
       "      <td>2</td>\n",
       "      <td>2013</td>\n",
       "    </tr>\n",
       "    <tr>\n",
       "      <th>13167</th>\n",
       "      <td>76561197984390941</td>\n",
       "      <td>221100.0</td>\n",
       "      <td>True</td>\n",
       "      <td>2</td>\n",
       "      <td>2014</td>\n",
       "    </tr>\n",
       "    <tr>\n",
       "      <th>13870</th>\n",
       "      <td>LiquidShovel</td>\n",
       "      <td>218620.0</td>\n",
       "      <td>True</td>\n",
       "      <td>2</td>\n",
       "      <td>2015</td>\n",
       "    </tr>\n",
       "    <tr>\n",
       "      <th>15866</th>\n",
       "      <td>darkguyed001</td>\n",
       "      <td>440.0</td>\n",
       "      <td>True</td>\n",
       "      <td>2</td>\n",
       "      <td>2014</td>\n",
       "    </tr>\n",
       "    <tr>\n",
       "      <th>15899</th>\n",
       "      <td>Phoenixexe</td>\n",
       "      <td>4000.0</td>\n",
       "      <td>True</td>\n",
       "      <td>2</td>\n",
       "      <td>2014</td>\n",
       "    </tr>\n",
       "    <tr>\n",
       "      <th>16414</th>\n",
       "      <td>76561198094245250</td>\n",
       "      <td>440.0</td>\n",
       "      <td>True</td>\n",
       "      <td>2</td>\n",
       "      <td>2014</td>\n",
       "    </tr>\n",
       "    <tr>\n",
       "      <th>20771</th>\n",
       "      <td>76561198057276193</td>\n",
       "      <td>730.0</td>\n",
       "      <td>True</td>\n",
       "      <td>2</td>\n",
       "      <td>2015</td>\n",
       "    </tr>\n",
       "    <tr>\n",
       "      <th>21212</th>\n",
       "      <td>ninjamagics</td>\n",
       "      <td>440.0</td>\n",
       "      <td>True</td>\n",
       "      <td>2</td>\n",
       "      <td>2014</td>\n",
       "    </tr>\n",
       "    <tr>\n",
       "      <th>23561</th>\n",
       "      <td>DrepWorld</td>\n",
       "      <td>218620.0</td>\n",
       "      <td>True</td>\n",
       "      <td>1</td>\n",
       "      <td>2014</td>\n",
       "    </tr>\n",
       "    <tr>\n",
       "      <th>24185</th>\n",
       "      <td>WhyYouChekinHimOutHuh</td>\n",
       "      <td>730.0</td>\n",
       "      <td>True</td>\n",
       "      <td>2</td>\n",
       "      <td>2014</td>\n",
       "    </tr>\n",
       "    <tr>\n",
       "      <th>24361</th>\n",
       "      <td>walrusjesus</td>\n",
       "      <td>440.0</td>\n",
       "      <td>True</td>\n",
       "      <td>2</td>\n",
       "      <td>2014</td>\n",
       "    </tr>\n",
       "    <tr>\n",
       "      <th>25440</th>\n",
       "      <td>76561198134139139</td>\n",
       "      <td>730.0</td>\n",
       "      <td>True</td>\n",
       "      <td>2</td>\n",
       "      <td>2015</td>\n",
       "    </tr>\n",
       "    <tr>\n",
       "      <th>25576</th>\n",
       "      <td>NamerGamer69</td>\n",
       "      <td>440.0</td>\n",
       "      <td>True</td>\n",
       "      <td>2</td>\n",
       "      <td>Dato no disponible</td>\n",
       "    </tr>\n",
       "    <tr>\n",
       "      <th>26602</th>\n",
       "      <td>76561198080824028</td>\n",
       "      <td>208090.0</td>\n",
       "      <td>True</td>\n",
       "      <td>2</td>\n",
       "      <td>2014</td>\n",
       "    </tr>\n",
       "    <tr>\n",
       "      <th>27652</th>\n",
       "      <td>bl00dlock</td>\n",
       "      <td>730.0</td>\n",
       "      <td>True</td>\n",
       "      <td>1</td>\n",
       "      <td>2015</td>\n",
       "    </tr>\n",
       "    <tr>\n",
       "      <th>27998</th>\n",
       "      <td>76561198061294635</td>\n",
       "      <td>440.0</td>\n",
       "      <td>True</td>\n",
       "      <td>2</td>\n",
       "      <td>2014</td>\n",
       "    </tr>\n",
       "    <tr>\n",
       "      <th>28034</th>\n",
       "      <td>SpiderTheLoko</td>\n",
       "      <td>8870.0</td>\n",
       "      <td>True</td>\n",
       "      <td>2</td>\n",
       "      <td>2014</td>\n",
       "    </tr>\n",
       "    <tr>\n",
       "      <th>29308</th>\n",
       "      <td>Swahboo</td>\n",
       "      <td>440.0</td>\n",
       "      <td>True</td>\n",
       "      <td>2</td>\n",
       "      <td>2013</td>\n",
       "    </tr>\n",
       "    <tr>\n",
       "      <th>29335</th>\n",
       "      <td>flippy12343</td>\n",
       "      <td>4000.0</td>\n",
       "      <td>True</td>\n",
       "      <td>2</td>\n",
       "      <td>2014</td>\n",
       "    </tr>\n",
       "    <tr>\n",
       "      <th>29518</th>\n",
       "      <td>76561198057905001</td>\n",
       "      <td>730.0</td>\n",
       "      <td>True</td>\n",
       "      <td>2</td>\n",
       "      <td>2015</td>\n",
       "    </tr>\n",
       "    <tr>\n",
       "      <th>30608</th>\n",
       "      <td>HenezRS</td>\n",
       "      <td>730.0</td>\n",
       "      <td>True</td>\n",
       "      <td>2</td>\n",
       "      <td>2014</td>\n",
       "    </tr>\n",
       "    <tr>\n",
       "      <th>31594</th>\n",
       "      <td>76561198076708943</td>\n",
       "      <td>256410.0</td>\n",
       "      <td>True</td>\n",
       "      <td>1</td>\n",
       "      <td>2014</td>\n",
       "    </tr>\n",
       "    <tr>\n",
       "      <th>31667</th>\n",
       "      <td>donkeyduk01</td>\n",
       "      <td>236390.0</td>\n",
       "      <td>True</td>\n",
       "      <td>2</td>\n",
       "      <td>2015</td>\n",
       "    </tr>\n",
       "    <tr>\n",
       "      <th>32094</th>\n",
       "      <td>MrEpicz</td>\n",
       "      <td>8930.0</td>\n",
       "      <td>True</td>\n",
       "      <td>2</td>\n",
       "      <td>2014</td>\n",
       "    </tr>\n",
       "    <tr>\n",
       "      <th>32430</th>\n",
       "      <td>Thugorran</td>\n",
       "      <td>730.0</td>\n",
       "      <td>True</td>\n",
       "      <td>2</td>\n",
       "      <td>2013</td>\n",
       "    </tr>\n",
       "    <tr>\n",
       "      <th>32467</th>\n",
       "      <td>76561197984390941</td>\n",
       "      <td>221100.0</td>\n",
       "      <td>True</td>\n",
       "      <td>2</td>\n",
       "      <td>2014</td>\n",
       "    </tr>\n",
       "    <tr>\n",
       "      <th>32779</th>\n",
       "      <td>LiquidShovel</td>\n",
       "      <td>218620.0</td>\n",
       "      <td>True</td>\n",
       "      <td>2</td>\n",
       "      <td>2015</td>\n",
       "    </tr>\n",
       "    <tr>\n",
       "      <th>33793</th>\n",
       "      <td>darkguyed001</td>\n",
       "      <td>440.0</td>\n",
       "      <td>True</td>\n",
       "      <td>2</td>\n",
       "      <td>2014</td>\n",
       "    </tr>\n",
       "    <tr>\n",
       "      <th>33810</th>\n",
       "      <td>Phoenixexe</td>\n",
       "      <td>4000.0</td>\n",
       "      <td>True</td>\n",
       "      <td>2</td>\n",
       "      <td>2014</td>\n",
       "    </tr>\n",
       "    <tr>\n",
       "      <th>34073</th>\n",
       "      <td>76561198094245250</td>\n",
       "      <td>440.0</td>\n",
       "      <td>True</td>\n",
       "      <td>2</td>\n",
       "      <td>2014</td>\n",
       "    </tr>\n",
       "    <tr>\n",
       "      <th>35962</th>\n",
       "      <td>76561198057276193</td>\n",
       "      <td>730.0</td>\n",
       "      <td>True</td>\n",
       "      <td>2</td>\n",
       "      <td>2015</td>\n",
       "    </tr>\n",
       "    <tr>\n",
       "      <th>36147</th>\n",
       "      <td>ninjamagics</td>\n",
       "      <td>440.0</td>\n",
       "      <td>True</td>\n",
       "      <td>2</td>\n",
       "      <td>2014</td>\n",
       "    </tr>\n",
       "    <tr>\n",
       "      <th>37043</th>\n",
       "      <td>DrepWorld</td>\n",
       "      <td>218620.0</td>\n",
       "      <td>True</td>\n",
       "      <td>1</td>\n",
       "      <td>2014</td>\n",
       "    </tr>\n",
       "    <tr>\n",
       "      <th>37279</th>\n",
       "      <td>WhyYouChekinHimOutHuh</td>\n",
       "      <td>730.0</td>\n",
       "      <td>True</td>\n",
       "      <td>2</td>\n",
       "      <td>2014</td>\n",
       "    </tr>\n",
       "    <tr>\n",
       "      <th>37332</th>\n",
       "      <td>walrusjesus</td>\n",
       "      <td>440.0</td>\n",
       "      <td>True</td>\n",
       "      <td>2</td>\n",
       "      <td>2014</td>\n",
       "    </tr>\n",
       "    <tr>\n",
       "      <th>37766</th>\n",
       "      <td>76561198134139139</td>\n",
       "      <td>730.0</td>\n",
       "      <td>True</td>\n",
       "      <td>2</td>\n",
       "      <td>2015</td>\n",
       "    </tr>\n",
       "    <tr>\n",
       "      <th>37811</th>\n",
       "      <td>NamerGamer69</td>\n",
       "      <td>440.0</td>\n",
       "      <td>True</td>\n",
       "      <td>2</td>\n",
       "      <td>Dato no disponible</td>\n",
       "    </tr>\n",
       "    <tr>\n",
       "      <th>39936</th>\n",
       "      <td>qwertybmwh1994</td>\n",
       "      <td>1250.0</td>\n",
       "      <td>True</td>\n",
       "      <td>1</td>\n",
       "      <td>2013</td>\n",
       "    </tr>\n",
       "    <tr>\n",
       "      <th>40134</th>\n",
       "      <td>Swahboo</td>\n",
       "      <td>440.0</td>\n",
       "      <td>True</td>\n",
       "      <td>2</td>\n",
       "      <td>2013</td>\n",
       "    </tr>\n",
       "  </tbody>\n",
       "</table>\n",
       "</div>"
      ],
      "text/plain": [
       "                     user_id   item_id reviews_recommend  sentiment_analysis  \\\n",
       "1624       76561198080824028  208090.0              True                   2   \n",
       "3589               bl00dlock     730.0              True                   1   \n",
       "4230       76561198061294635     440.0              True                   2   \n",
       "4301           SpiderTheLoko    8870.0              True                   2   \n",
       "4385       76561197999539608     440.0              True                   2   \n",
       "6210          qwertybmwh1994    1250.0              True                   1   \n",
       "6860             flippy12343    4000.0              True                   2   \n",
       "7189       76561198057905001     730.0              True                   2   \n",
       "9293                 HenezRS     730.0              True                   2   \n",
       "10965      76561198068952127     730.0              True                   2   \n",
       "10966      76561198068952127     730.0              True                   2   \n",
       "11288      76561198076708943  256410.0              True                   1   \n",
       "11446            donkeyduk01  236390.0              True                   2   \n",
       "11493      76561197999539608     440.0              True                   2   \n",
       "12350                MrEpicz    8930.0              True                   2   \n",
       "13083              Thugorran     730.0              True                   2   \n",
       "13167      76561197984390941  221100.0              True                   2   \n",
       "13870           LiquidShovel  218620.0              True                   2   \n",
       "15866           darkguyed001     440.0              True                   2   \n",
       "15899             Phoenixexe    4000.0              True                   2   \n",
       "16414      76561198094245250     440.0              True                   2   \n",
       "20771      76561198057276193     730.0              True                   2   \n",
       "21212            ninjamagics     440.0              True                   2   \n",
       "23561              DrepWorld  218620.0              True                   1   \n",
       "24185  WhyYouChekinHimOutHuh     730.0              True                   2   \n",
       "24361            walrusjesus     440.0              True                   2   \n",
       "25440      76561198134139139     730.0              True                   2   \n",
       "25576           NamerGamer69     440.0              True                   2   \n",
       "26602      76561198080824028  208090.0              True                   2   \n",
       "27652              bl00dlock     730.0              True                   1   \n",
       "27998      76561198061294635     440.0              True                   2   \n",
       "28034          SpiderTheLoko    8870.0              True                   2   \n",
       "29308                Swahboo     440.0              True                   2   \n",
       "29335            flippy12343    4000.0              True                   2   \n",
       "29518      76561198057905001     730.0              True                   2   \n",
       "30608                HenezRS     730.0              True                   2   \n",
       "31594      76561198076708943  256410.0              True                   1   \n",
       "31667            donkeyduk01  236390.0              True                   2   \n",
       "32094                MrEpicz    8930.0              True                   2   \n",
       "32430              Thugorran     730.0              True                   2   \n",
       "32467      76561197984390941  221100.0              True                   2   \n",
       "32779           LiquidShovel  218620.0              True                   2   \n",
       "33793           darkguyed001     440.0              True                   2   \n",
       "33810             Phoenixexe    4000.0              True                   2   \n",
       "34073      76561198094245250     440.0              True                   2   \n",
       "35962      76561198057276193     730.0              True                   2   \n",
       "36147            ninjamagics     440.0              True                   2   \n",
       "37043              DrepWorld  218620.0              True                   1   \n",
       "37279  WhyYouChekinHimOutHuh     730.0              True                   2   \n",
       "37332            walrusjesus     440.0              True                   2   \n",
       "37766      76561198134139139     730.0              True                   2   \n",
       "37811           NamerGamer69     440.0              True                   2   \n",
       "39936         qwertybmwh1994    1250.0              True                   1   \n",
       "40134                Swahboo     440.0              True                   2   \n",
       "\n",
       "             reviews_year  \n",
       "1624                 2014  \n",
       "3589                 2015  \n",
       "4230                 2014  \n",
       "4301                 2014  \n",
       "4385                 2014  \n",
       "6210                 2013  \n",
       "6860                 2014  \n",
       "7189                 2015  \n",
       "9293                 2014  \n",
       "10965                2015  \n",
       "10966                2015  \n",
       "11288                2014  \n",
       "11446                2015  \n",
       "11493                2014  \n",
       "12350                2014  \n",
       "13083                2013  \n",
       "13167                2014  \n",
       "13870                2015  \n",
       "15866                2014  \n",
       "15899                2014  \n",
       "16414                2014  \n",
       "20771                2015  \n",
       "21212                2014  \n",
       "23561                2014  \n",
       "24185                2014  \n",
       "24361                2014  \n",
       "25440                2015  \n",
       "25576  Dato no disponible  \n",
       "26602                2014  \n",
       "27652                2015  \n",
       "27998                2014  \n",
       "28034                2014  \n",
       "29308                2013  \n",
       "29335                2014  \n",
       "29518                2015  \n",
       "30608                2014  \n",
       "31594                2014  \n",
       "31667                2015  \n",
       "32094                2014  \n",
       "32430                2013  \n",
       "32467                2014  \n",
       "32779                2015  \n",
       "33793                2014  \n",
       "33810                2014  \n",
       "34073                2014  \n",
       "35962                2015  \n",
       "36147                2014  \n",
       "37043                2014  \n",
       "37279                2014  \n",
       "37332                2014  \n",
       "37766                2015  \n",
       "37811  Dato no disponible  \n",
       "39936                2013  \n",
       "40134                2013  "
      ]
     },
     "execution_count": 151,
     "metadata": {},
     "output_type": "execute_result"
    }
   ],
   "source": [
    "# Verificar duplicados en el DataFrame user_reviews\n",
    "duplicados_reviews = user_reviews.duplicated()\n",
    "duplicados_user_reviews = user_reviews[user_reviews.duplicated(keep=False)]\n",
    "duplicados_user_reviews\n"
   ]
  },
  {
   "cell_type": "code",
   "execution_count": 150,
   "metadata": {},
   "outputs": [
    {
     "name": "stdout",
     "output_type": "stream",
     "text": [
      "Total de filas duplicadas en user_reviews: 27\n"
     ]
    }
   ],
   "source": [
    "# Contar el número de duplicados\n",
    "total_duplicados = duplicados_reviews.sum()\n",
    "\n",
    "# Para ver cuántos duplicados hay\n",
    "print(f\"Total de filas duplicadas en user_reviews: {total_duplicados}\")\n",
    "\n",
    "# Si deseas ver las filas duplicadas\n",
    "filas_duplicadas = user_reviews[user_reviews.duplicated(keep=False)]"
   ]
  },
  {
   "cell_type": "code",
   "execution_count": 152,
   "metadata": {},
   "outputs": [],
   "source": [
    "user_reviews = user_reviews.drop_duplicates(keep='first')"
   ]
  },
  {
   "cell_type": "markdown",
   "metadata": {},
   "source": [
    "**Revisión de tipos de datos**"
   ]
  },
  {
   "cell_type": "code",
   "execution_count": 154,
   "metadata": {},
   "outputs": [
    {
     "data": {
      "text/plain": [
       "user_id                object\n",
       "item_id               float64\n",
       "reviews_recommend      object\n",
       "sentiment_analysis      int64\n",
       "reviews_year           object\n",
       "dtype: object"
      ]
     },
     "execution_count": 154,
     "metadata": {},
     "output_type": "execute_result"
    }
   ],
   "source": [
    "user_reviews.dtypes"
   ]
  },
  {
   "cell_type": "code",
   "execution_count": 160,
   "metadata": {},
   "outputs": [
    {
     "data": {
      "text/plain": [
       "user_id               object\n",
       "item_id                int32\n",
       "reviews_recommend       bool\n",
       "sentiment_analysis     int64\n",
       "reviews_year           int32\n",
       "dtype: object"
      ]
     },
     "execution_count": 160,
     "metadata": {},
     "output_type": "execute_result"
    }
   ],
   "source": [
    "# Convertir valores no numéricos a NaN y luego a entero\n",
    "user_reviews['reviews_year'] = pd.to_numeric(user_reviews['reviews_year'], errors='coerce')\n",
    "\n",
    "# Convertir 'reviews_year' a integer (int)\n",
    "user_reviews['reviews_year'] = user_reviews['reviews_year'].fillna(0).astype(int)\n",
    "\n",
    "# Convertir 'item_id' a integer (int), manejando los valores NaN\n",
    "user_reviews['item_id'] = user_reviews['item_id'].fillna(0).astype(int)\n",
    "\n",
    "# Convertir 'reviews_recommend' a boolean (bool), asumiendo que ya contiene 'True' y 'False'\n",
    "user_reviews['reviews_recommend'] = user_reviews['reviews_recommend'].astype(bool)\n",
    "\n",
    "# Mostrar los tipos de datos para confirmar los cambios\n",
    "user_reviews.dtypes"
   ]
  },
  {
   "cell_type": "markdown",
   "metadata": {},
   "source": [
    "**Análisis estadísticos y correlaciones**"
   ]
  },
  {
   "cell_type": "code",
   "execution_count": 162,
   "metadata": {},
   "outputs": [
    {
     "data": {
      "image/png": "[encoded data removed]",
      "text/plain": [
       "<Figure size 800x600 with 1 Axes>"
      ]
     },
     "metadata": {},
     "output_type": "display_data"
    }
   ],
   "source": [
    "# Crear un gráfico de barras que muestra la distribución de análisis de sentimiento\n",
    "plt.figure(figsize=(8, 6))\n",
    "sns.set_style(\"whitegrid\")\n",
    "sns.countplot(data=user_reviews, x='sentiment_analysis', palette='coolwarm')\n",
    "plt.title('Distribución de Análisis de Sentimiento en Reseñas de Usuarios')\n",
    "plt.xlabel('Sentimiento')\n",
    "plt.ylabel('Cantidad de Reseñas')\n",
    "plt.xticks([0, 1, 2], ['Negativo', 'Neutral', 'Positivo'])\n",
    "plt.show()"
   ]
  },
  {
   "cell_type": "markdown",
   "metadata": {},
   "source": [
    "La mayoría de las reseñas de usuarios analizadas son positivas, seguidas por una cantidad significativamente menor de reseñas neutrales y aún menos reseñas negativas."
   ]
  },
  {
   "cell_type": "markdown",
   "metadata": {},
   "source": [
    "### **Selección de Variables para la creación del Modelo de Aprendizaje**\n",
    "En nuestro proyecto de desarrollo de un modelo de recomendación de juegos, utilizaremos un enfoque preciso para calcular una puntuación de recomendación en una escala del 1 al 5, considerando el análisis de sentimiento de las reseñas y las recomendaciones de usuarios. Esta puntuación permite ofrecer recomendaciones personalizadas y precisas a nuestros usuarios, teniendo en cuenta la calidad percibida y las preferencias de la comunidad.\n",
    "\n",
    "La función que estamos desarrollando desempeña un papel esencial en nuestro sistema de recomendación de juegos, asignando calificaciones del 1 al 5 a cada juego mediante el análisis de sentimientos y las recomendaciones de los usuarios, proporcionando así recomendaciones personalizadas y precisas."
   ]
  },
  {
   "cell_type": "code",
   "execution_count": 168,
   "metadata": {},
   "outputs": [],
   "source": [
    "def calcular_calificacion(row):\n",
    "    '''\n",
    "    Calcula una calificación en base al análisis de sentimientos de las reseñas de los juegos \n",
    "    y si los usuarios recomiendan o no dichos juegos.\n",
    "\n",
    "    Parámetros:\n",
    "    row (dict): Un diccionario que contiene las siguientes claves:\n",
    "       - \"sentiment_analysis\" (int): La valoración numérica del análisis de sentimientos (0, 1 o 2).\n",
    "       - \"reviews_recommendn\" (bool): Un valor booleano que indica si las reseñas recomiendan el juego o no.\n",
    "\n",
    "    Devuelve:\n",
    "       int o None: Un número entero entre 1 y 5 que representa la calificación calculada, \n",
    "       o None en caso de que las entradas no sean válidas.\n",
    "    '''\n",
    "    # Inicio del proceso de asignación de calificaciones \n",
    "    if row[\"sentiment_analysis\"] == 0 and not row[\"reviews_recommend\"]:\n",
    "        return 1  # Calificación 1: Sentimiento negativo y no recomendado\n",
    "    elif row[\"sentiment_analysis\"] == 0 and row[\"reviews_recommend\"]:\n",
    "        return 1  # Calificación 1: Sentimiento negativo y recomendado (coherencia)\n",
    "    elif row[\"sentiment_analysis\"] == 1 and not row[\"reviews_recommend\"]:\n",
    "        return 2  # Calificación 2: Sentimiento neutral y no recomendado\n",
    "    elif row[\"sentiment_analysis\"] == 1 and row[\"reviews_recommend\"]:\n",
    "        return 3  # Calificación 3: Sentimiento neutral pero recomendado\n",
    "    elif row[\"sentiment_analysis\"] == 2 and not row[\"reviews_recommend\"]:\n",
    "        return 4  # Calificación 4: Sentimiento positivo pero no recomendado\n",
    "    elif row[\"sentiment_analysis\"] == 2 and row[\"reviews_recommend\"]:\n",
    "        return 5  # Calificación 5: Sentimiento positivo y recomendado\n",
    "    else:\n",
    "        return None  # Entradas inválidas, no se puede calcular una calificación"
   ]
  },
  {
   "cell_type": "markdown",
   "metadata": {},
   "source": [
    "Agregamos la columna \"recomendacion\""
   ]
  },
  {
   "cell_type": "code",
   "execution_count": 174,
   "metadata": {},
   "outputs": [
    {
     "data": {
      "text/html": [
       "<div>\n",
       "<style scoped>\n",
       "    .dataframe tbody tr th:only-of-type {\n",
       "        vertical-align: middle;\n",
       "    }\n",
       "\n",
       "    .dataframe tbody tr th {\n",
       "        vertical-align: top;\n",
       "    }\n",
       "\n",
       "    .dataframe thead th {\n",
       "        text-align: right;\n",
       "    }\n",
       "</style>\n",
       "<table border=\"1\" class=\"dataframe\">\n",
       "  <thead>\n",
       "    <tr style=\"text-align: right;\">\n",
       "      <th></th>\n",
       "      <th>user_id</th>\n",
       "      <th>item_id</th>\n",
       "      <th>reviews_recommend</th>\n",
       "      <th>sentiment_analysis</th>\n",
       "      <th>reviews_year</th>\n",
       "      <th>recommendacion</th>\n",
       "      <th>recomendacion</th>\n",
       "    </tr>\n",
       "  </thead>\n",
       "  <tbody>\n",
       "    <tr>\n",
       "      <th>0</th>\n",
       "      <td>76561197970982479</td>\n",
       "      <td>1250</td>\n",
       "      <td>True</td>\n",
       "      <td>2</td>\n",
       "      <td>2011</td>\n",
       "      <td>5</td>\n",
       "      <td>5</td>\n",
       "    </tr>\n",
       "    <tr>\n",
       "      <th>1</th>\n",
       "      <td>js41637</td>\n",
       "      <td>251610</td>\n",
       "      <td>True</td>\n",
       "      <td>2</td>\n",
       "      <td>2014</td>\n",
       "      <td>5</td>\n",
       "      <td>5</td>\n",
       "    </tr>\n",
       "    <tr>\n",
       "      <th>2</th>\n",
       "      <td>evcentric</td>\n",
       "      <td>248820</td>\n",
       "      <td>True</td>\n",
       "      <td>2</td>\n",
       "      <td>0</td>\n",
       "      <td>5</td>\n",
       "      <td>5</td>\n",
       "    </tr>\n",
       "    <tr>\n",
       "      <th>3</th>\n",
       "      <td>doctr</td>\n",
       "      <td>250320</td>\n",
       "      <td>True</td>\n",
       "      <td>2</td>\n",
       "      <td>2013</td>\n",
       "      <td>5</td>\n",
       "      <td>5</td>\n",
       "    </tr>\n",
       "    <tr>\n",
       "      <th>4</th>\n",
       "      <td>maplemage</td>\n",
       "      <td>211420</td>\n",
       "      <td>True</td>\n",
       "      <td>1</td>\n",
       "      <td>2014</td>\n",
       "      <td>3</td>\n",
       "      <td>3</td>\n",
       "    </tr>\n",
       "  </tbody>\n",
       "</table>\n",
       "</div>"
      ],
      "text/plain": [
       "             user_id  item_id  reviews_recommend  sentiment_analysis  \\\n",
       "0  76561197970982479     1250               True                   2   \n",
       "1            js41637   251610               True                   2   \n",
       "2          evcentric   248820               True                   2   \n",
       "3              doctr   250320               True                   2   \n",
       "4          maplemage   211420               True                   1   \n",
       "\n",
       "   reviews_year  recommendacion  recomendacion  \n",
       "0          2011               5              5  \n",
       "1          2014               5              5  \n",
       "2             0               5              5  \n",
       "3          2013               5              5  \n",
       "4          2014               3              3  "
      ]
     },
     "execution_count": 174,
     "metadata": {},
     "output_type": "execute_result"
    }
   ],
   "source": [
    "user_reviews['recomendacion'] = user_reviews.apply(calcular_calificacion, axis=1)\n",
    "user_reviews.head()"
   ]
  },
  {
   "cell_type": "code",
   "execution_count": 173,
   "metadata": {},
   "outputs": [
    {
     "data": {
      "text/html": [
       "<div>\n",
       "<style scoped>\n",
       "    .dataframe tbody tr th:only-of-type {\n",
       "        vertical-align: middle;\n",
       "    }\n",
       "\n",
       "    .dataframe tbody tr th {\n",
       "        vertical-align: top;\n",
       "    }\n",
       "\n",
       "    .dataframe thead th {\n",
       "        text-align: right;\n",
       "    }\n",
       "</style>\n",
       "<table border=\"1\" class=\"dataframe\">\n",
       "  <thead>\n",
       "    <tr style=\"text-align: right;\">\n",
       "      <th></th>\n",
       "      <th>user_id</th>\n",
       "      <th>item_id</th>\n",
       "      <th>recomendacion</th>\n",
       "    </tr>\n",
       "  </thead>\n",
       "  <tbody>\n",
       "    <tr>\n",
       "      <th>0</th>\n",
       "      <td>76561197970982479</td>\n",
       "      <td>1250</td>\n",
       "      <td>5</td>\n",
       "    </tr>\n",
       "    <tr>\n",
       "      <th>1</th>\n",
       "      <td>js41637</td>\n",
       "      <td>251610</td>\n",
       "      <td>5</td>\n",
       "    </tr>\n",
       "    <tr>\n",
       "      <th>2</th>\n",
       "      <td>evcentric</td>\n",
       "      <td>248820</td>\n",
       "      <td>5</td>\n",
       "    </tr>\n",
       "    <tr>\n",
       "      <th>3</th>\n",
       "      <td>doctr</td>\n",
       "      <td>250320</td>\n",
       "      <td>5</td>\n",
       "    </tr>\n",
       "    <tr>\n",
       "      <th>4</th>\n",
       "      <td>maplemage</td>\n",
       "      <td>211420</td>\n",
       "      <td>3</td>\n",
       "    </tr>\n",
       "  </tbody>\n",
       "</table>\n",
       "</div>"
      ],
      "text/plain": [
       "             user_id  item_id  recomendacion\n",
       "0  76561197970982479     1250              5\n",
       "1            js41637   251610              5\n",
       "2          evcentric   248820              5\n",
       "3              doctr   250320              5\n",
       "4          maplemage   211420              3"
      ]
     },
     "execution_count": 173,
     "metadata": {},
     "output_type": "execute_result"
    }
   ],
   "source": [
    "user_reviews_filtered = user_reviews[['user_id', 'item_id', 'recomendacion']]\n",
    "user_reviews_filtered.head()"
   ]
  },
  {
   "cell_type": "code",
   "execution_count": 176,
   "metadata": {},
   "outputs": [
    {
     "data": {
      "text/html": [
       "<div>\n",
       "<style scoped>\n",
       "    .dataframe tbody tr th:only-of-type {\n",
       "        vertical-align: middle;\n",
       "    }\n",
       "\n",
       "    .dataframe tbody tr th {\n",
       "        vertical-align: top;\n",
       "    }\n",
       "\n",
       "    .dataframe thead th {\n",
       "        text-align: right;\n",
       "    }\n",
       "</style>\n",
       "<table border=\"1\" class=\"dataframe\">\n",
       "  <thead>\n",
       "    <tr style=\"text-align: right;\">\n",
       "      <th></th>\n",
       "      <th>item_id</th>\n",
       "      <th>item_name</th>\n",
       "    </tr>\n",
       "  </thead>\n",
       "  <tbody>\n",
       "    <tr>\n",
       "      <th>0</th>\n",
       "      <td>10</td>\n",
       "      <td>Counter-Strike</td>\n",
       "    </tr>\n",
       "    <tr>\n",
       "      <th>1</th>\n",
       "      <td>20</td>\n",
       "      <td>Team Fortress Classic</td>\n",
       "    </tr>\n",
       "    <tr>\n",
       "      <th>2</th>\n",
       "      <td>30</td>\n",
       "      <td>Day of Defeat</td>\n",
       "    </tr>\n",
       "    <tr>\n",
       "      <th>3</th>\n",
       "      <td>40</td>\n",
       "      <td>Deathmatch Classic</td>\n",
       "    </tr>\n",
       "    <tr>\n",
       "      <th>4</th>\n",
       "      <td>50</td>\n",
       "      <td>Half-Life: Opposing Force</td>\n",
       "    </tr>\n",
       "  </tbody>\n",
       "</table>\n",
       "</div>"
      ],
      "text/plain": [
       "   item_id                  item_name\n",
       "0       10             Counter-Strike\n",
       "1       20      Team Fortress Classic\n",
       "2       30              Day of Defeat\n",
       "3       40         Deathmatch Classic\n",
       "4       50  Half-Life: Opposing Force"
      ]
     },
     "execution_count": 176,
     "metadata": {},
     "output_type": "execute_result"
    }
   ],
   "source": [
    "# Creamos un nuevo DataFrame con valores únicos de 'item_id' y 'item_name'\n",
    "unicos_items = user_items[['item_id', 'item_name']].drop_duplicates()\n",
    "unicos_items.head()"
   ]
  },
  {
   "cell_type": "code",
   "execution_count": 180,
   "metadata": {},
   "outputs": [
    {
     "data": {
      "text/html": [
       "<div>\n",
       "<style scoped>\n",
       "    .dataframe tbody tr th:only-of-type {\n",
       "        vertical-align: middle;\n",
       "    }\n",
       "\n",
       "    .dataframe tbody tr th {\n",
       "        vertical-align: top;\n",
       "    }\n",
       "\n",
       "    .dataframe thead th {\n",
       "        text-align: right;\n",
       "    }\n",
       "</style>\n",
       "<table border=\"1\" class=\"dataframe\">\n",
       "  <thead>\n",
       "    <tr style=\"text-align: right;\">\n",
       "      <th></th>\n",
       "      <th>user_id</th>\n",
       "      <th>item_id</th>\n",
       "      <th>recomendacion</th>\n",
       "      <th>item_name</th>\n",
       "    </tr>\n",
       "  </thead>\n",
       "  <tbody>\n",
       "    <tr>\n",
       "      <th>0</th>\n",
       "      <td>76561197970982479</td>\n",
       "      <td>1250</td>\n",
       "      <td>5</td>\n",
       "      <td>Killing Floor</td>\n",
       "    </tr>\n",
       "    <tr>\n",
       "      <th>1</th>\n",
       "      <td>76561198090899557</td>\n",
       "      <td>1250</td>\n",
       "      <td>1</td>\n",
       "      <td>Killing Floor</td>\n",
       "    </tr>\n",
       "    <tr>\n",
       "      <th>2</th>\n",
       "      <td>2ik4tf</td>\n",
       "      <td>1250</td>\n",
       "      <td>5</td>\n",
       "      <td>Killing Floor</td>\n",
       "    </tr>\n",
       "    <tr>\n",
       "      <th>3</th>\n",
       "      <td>Delicous_Cookies</td>\n",
       "      <td>1250</td>\n",
       "      <td>5</td>\n",
       "      <td>Killing Floor</td>\n",
       "    </tr>\n",
       "    <tr>\n",
       "      <th>4</th>\n",
       "      <td>Killerkalf</td>\n",
       "      <td>1250</td>\n",
       "      <td>5</td>\n",
       "      <td>Killing Floor</td>\n",
       "    </tr>\n",
       "  </tbody>\n",
       "</table>\n",
       "</div>"
      ],
      "text/plain": [
       "             user_id  item_id  recomendacion      item_name\n",
       "0  76561197970982479     1250              5  Killing Floor\n",
       "1  76561198090899557     1250              1  Killing Floor\n",
       "2             2ik4tf     1250              5  Killing Floor\n",
       "3   Delicous_Cookies     1250              5  Killing Floor\n",
       "4         Killerkalf     1250              5  Killing Floor"
      ]
     },
     "execution_count": 180,
     "metadata": {},
     "output_type": "execute_result"
    }
   ],
   "source": [
    "# Realizamos un merge de unicos_items y user_reviews_filtered usando 'item_id'\n",
    "merged_data1 = user_reviews_filtered.merge(unicos_items, on='item_id')\n",
    "merged_data1.head()"
   ]
  },
  {
   "cell_type": "code",
   "execution_count": 181,
   "metadata": {},
   "outputs": [
    {
     "data": {
      "text/plain": [
       "user_id          0\n",
       "item_id          0\n",
       "recomendacion    0\n",
       "item_name        0\n",
       "dtype: int64"
      ]
     },
     "execution_count": 181,
     "metadata": {},
     "output_type": "execute_result"
    }
   ],
   "source": [
    "merged_data1.isnull().sum()"
   ]
  },
  {
   "cell_type": "code",
   "execution_count": 183,
   "metadata": {},
   "outputs": [
    {
     "data": {
      "image/png": "[encoded data removed]",
      "text/plain": [
       "<Figure size 1000x600 with 1 Axes>"
      ]
     },
     "metadata": {},
     "output_type": "display_data"
    }
   ],
   "source": [
    "# Generamos un histograma de la cantidad de reviews por puntaje de recomendación\n",
    "plt.figure(figsize=(10, 6))\n",
    "n, bins, patches = plt.hist(user_reviews_filtered['recomendacion'], bins=[1, 2, 3, 4, 5, 6], align='left', rwidth=0.8, edgecolor='black')\n",
    "\n",
    "# Agregamos las etiquetas y el título\n",
    "plt.xlabel('Puntaje de Recomendación')\n",
    "plt.ylabel('Cantidad de Reviews')\n",
    "plt.title('Distribución de Reviews por Puntaje de Recomendación')\n",
    "\n",
    "# Ponemos la cantidad de reviews en la parte superior de cada barra\n",
    "for i, rect in enumerate(patches):\n",
    "    height = rect.get_height()\n",
    "    plt.text(rect.get_x() + rect.get_width() / 2, height + 10, f'{int(n[i])}', ha='center')\n",
    "\n",
    "# Mostrar el gráfico\n",
    "plt.show()"
   ]
  },
  {
   "cell_type": "markdown",
   "metadata": {},
   "source": [
    "\n",
    "La ausencia de reseñas con calificaciones 2 y 4 en el gráfico refleja la metodología de calificación, la cual no contempla estos puntajes dado que todas las reseñas positivas son recomendadas (calificación 5) y las neutrales se dividen entre recomendadas (calificación 3) y no recomendadas (calificación 2). Esto indica que los usuarios tienden a recomendar juegos cuando tienen sentimientos positivos y se dividen en sus recomendaciones cuando tienen sentimientos neutros."
   ]
  },
  {
   "cell_type": "code",
   "execution_count": 184,
   "metadata": {},
   "outputs": [
    {
     "name": "stdout",
     "output_type": "stream",
     "text": [
      "Se ha guardado el archivo modelo_recomendacion.csv en la misma carpeta.\n"
     ]
    }
   ],
   "source": [
    "#Guardar la data para el modelo de recomendación\n",
    "nombre_archivo = 'modelo_recomendacion.csv'\n",
    "\n",
    "# Guardar el DataFrame en el archivo CSV\n",
    "merged_data1.to_csv(\"modelo_recomendacion.csv\", index=False, encoding='utf-8')\n",
    "print(f'Se ha guardado el archivo {nombre_archivo} en la misma carpeta.')"
   ]
  },
  {
   "cell_type": "code",
   "execution_count": 186,
   "metadata": {},
   "outputs": [
    {
     "name": "stdout",
     "output_type": "stream",
     "text": [
      "Se ha guardado el archivo data\\modelo_recomendacion.parquet en la carpeta data.\n"
     ]
    }
   ],
   "source": [
    "archivo_parquet= 'data\\modelo_recomendacion.parquet'\n",
    "\n",
    "# Guardar el DataFrame en archivo Parquet\n",
    "merged_data1.to_parquet(\"data\\modelo_recomendacion.parquet\")\n",
    "print(f'Se ha guardado el archivo {archivo_parquet} en la carpeta data.')"
   ]
  }
 ],
 "metadata": {
  "kernelspec": {
   "display_name": "Python 3",
   "language": "python",
   "name": "python3"
  },
  "language_info": {
   "codemirror_mode": {
    "name": "ipython",
    "version": 3
   },
   "file_extension": ".py",
   "mimetype": "text/x-python",
   "name": "python",
   "nbconvert_exporter": "python",
   "pygments_lexer": "ipython3",
   "version": "3.12.1"
  }
 },
 "nbformat": 4,
 "nbformat_minor": 2
}
