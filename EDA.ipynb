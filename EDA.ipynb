{
 "cells": [
  {
   "cell_type": "markdown",
   "metadata": {},
   "source": [
    "# **ANÁLISIS EXPLORATORIO DE DATOS (EDA)**\n",
    "A continuación, detallamos las fases de nuestro EDA, las cuales nos permitirán profundizar en el entendimiento de las bases de datos ya preprocesadas:\n",
    "\n",
    "  **- Chequeo de Nulos:** Verificaremos la presencia de valores nulos restantes y evaluaremos su impacto.\n",
    "  **- Valores Duplicados:** Revisaremos y manejaremos cualquier duplicidad adicional en los datos.\n",
    "  **- Valores Faltantes:** Identificaremos y abordaremos los valores faltantes que puedan afectar nuestro análisis.\n",
    "  **- Tipos de Datos:** Confirmaremos que cada columna contiene el tipo de dato más adecuado para su contenido.\n",
    "  **- Análisis Estadístico:** Realizaremos una evaluación estadística para comprender las tendencias y patrones subyacentes.\n",
    "  **- Correlaciones:** Analizaremos las relaciones bi y multivariadas para descubrir correlaciones significativas entre las variables.\n",
    "\n",
    "Es importante mencionar que, previamente, hemos llevado a cabo una limpieza exhaustiva de las bases de datos que involucra la eliminación de columnas innecesarias, corrección de nulos y remoción de registros duplicados. Este proceso es fundamental para la integridad de las funciones que desarrollaremos a continuación y la creación de la API."
   ]
  },
  {
   "cell_type": "markdown",
   "metadata": {},
   "source": [
    "**Importación de librerías**"
   ]
  },
  {
   "cell_type": "code",
   "execution_count": 1,
   "metadata": {},
   "outputs": [],
   "source": [
    "# Importación de librerías para manipulación de datos\n",
    "import numpy as np\n",
    "import pandas as pd\n",
    "pd.set_option(\"display.max_columns\", None)  # Permite visualizar todas las columnas en el DataFrame\n",
    "\n",
    "# Importación de librerías para visualización de datos\n",
    "import matplotlib.pyplot as plt\n",
    "import seaborn as sns\n",
    "\n",
    "# Configuración para ignorar advertencias\n",
    "import warnings\n",
    "warnings.filterwarnings(\"ignore\")"
   ]
  },
  {
   "cell_type": "markdown",
   "metadata": {},
   "source": [
    "**Extracción de los datos**\n",
    "Para los análisis necesarios, extraeremos los datos esenciales de los conjuntos steam_games, user_reviews, y user_items. Estos conjuntos de datos son fundamentales para nuestros análisis."
   ]
  },
  {
   "cell_type": "code",
   "execution_count": 2,
   "metadata": {},
   "outputs": [],
   "source": [
    "# Carga de datos de juegos de Steam\n",
    "steam_games = pd.read_csv('data/steam_games_cleaned.csv')\n",
    "\n",
    "# Carga de datos de reseñas de usuarios\n",
    "user_reviews = pd.read_csv('data/user_reviews_cleaned.csv')\n",
    "\n",
    "# Carga de datos de artículos de usuarios\n",
    "user_items = pd.read_csv('data/user_items_cleaned.csv')"
   ]
  },
  {
   "cell_type": "markdown",
   "metadata": {},
   "source": [
    "### **a. Chequeo de Nulos**\n"
   ]
  }
 ],
 "metadata": {
  "kernelspec": {
   "display_name": "Python 3",
   "language": "python",
   "name": "python3"
  },
  "language_info": {
   "codemirror_mode": {
    "name": "ipython",
    "version": 3
   },
   "file_extension": ".py",
   "mimetype": "text/x-python",
   "name": "python",
   "nbconvert_exporter": "python",
   "pygments_lexer": "ipython3",
   "version": "3.12.0"
  }
 },
 "nbformat": 4,
 "nbformat_minor": 2
}
